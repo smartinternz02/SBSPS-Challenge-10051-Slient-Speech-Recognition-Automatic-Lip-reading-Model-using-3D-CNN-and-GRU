{
 "cells": [
  {
   "cell_type": "code",
   "execution_count": 1,
   "id": "840416c2",
   "metadata": {},
   "outputs": [],
   "source": [
    "from  ibm_watson_machine_learning import APIClient "
   ]
  },
  {
   "cell_type": "code",
   "execution_count": 2,
   "id": "c1ed27ab",
   "metadata": {},
   "outputs": [],
   "source": [
    "import json \n",
    "import numpy as np "
   ]
  },
  {
   "cell_type": "code",
   "execution_count": 9,
   "id": "596161f9",
   "metadata": {},
   "outputs": [],
   "source": [
    "import os "
   ]
  },
  {
   "cell_type": "code",
   "execution_count": 3,
   "id": "85364ac0",
   "metadata": {},
   "outputs": [],
   "source": [
    "wml_credentials = {\n",
    "    \"url\":\"https://us-south.ml.cloud.ibm.com\", \n",
    "    \"apikey\": \"06OUEcO3iWSP-hDf_yAKIR3lE6MS6RTSmLFlmbtjNDd3\"  # \"50tndXfHZWBvTOYzo-IG1MOK6LQAsSNObk0XgbdkBvSW\" \n",
    "}"
   ]
  },
  {
   "cell_type": "code",
   "execution_count": 4,
   "id": "899d97fd",
   "metadata": {},
   "outputs": [],
   "source": [
    "wml_client = APIClient(wml_credentials) "
   ]
  },
  {
   "cell_type": "code",
   "execution_count": 5,
   "id": "ac563ffc",
   "metadata": {},
   "outputs": [
    {
     "name": "stdout",
     "output_type": "stream",
     "text": [
      "Note: 'limit' is not provided. Only first 50 records will be displayed if the number of records exceed 50\n",
      "------------------------------------  ------------  ------------------------\n",
      "ID                                    NAME          CREATED\n",
      "6c81a779-0c13-4fbf-8a92-7977342d693d  lipNet_space  2023-08-30T12:49:15.298Z\n",
      "------------------------------------  ------------  ------------------------\n"
     ]
    },
    {
     "data": {
      "text/html": [
       "<div>\n",
       "<style scoped>\n",
       "    .dataframe tbody tr th:only-of-type {\n",
       "        vertical-align: middle;\n",
       "    }\n",
       "\n",
       "    .dataframe tbody tr th {\n",
       "        vertical-align: top;\n",
       "    }\n",
       "\n",
       "    .dataframe thead th {\n",
       "        text-align: right;\n",
       "    }\n",
       "</style>\n",
       "<table border=\"1\" class=\"dataframe\">\n",
       "  <thead>\n",
       "    <tr style=\"text-align: right;\">\n",
       "      <th></th>\n",
       "      <th>ID</th>\n",
       "      <th>NAME</th>\n",
       "      <th>CREATED</th>\n",
       "    </tr>\n",
       "  </thead>\n",
       "  <tbody>\n",
       "    <tr>\n",
       "      <th>0</th>\n",
       "      <td>6c81a779-0c13-4fbf-8a92-7977342d693d</td>\n",
       "      <td>lipNet_space</td>\n",
       "      <td>2023-08-30T12:49:15.298Z</td>\n",
       "    </tr>\n",
       "  </tbody>\n",
       "</table>\n",
       "</div>"
      ],
      "text/plain": [
       "                                     ID          NAME  \\\n",
       "0  6c81a779-0c13-4fbf-8a92-7977342d693d  lipNet_space   \n",
       "\n",
       "                    CREATED  \n",
       "0  2023-08-30T12:49:15.298Z  "
      ]
     },
     "execution_count": 5,
     "metadata": {},
     "output_type": "execute_result"
    }
   ],
   "source": [
    "wml_client.spaces.list() "
   ]
  },
  {
   "cell_type": "code",
   "execution_count": 6,
   "id": "599dcb6f",
   "metadata": {},
   "outputs": [],
   "source": [
    "SPACE_ID = \"6c81a779-0c13-4fbf-8a92-7977342d693d\"  "
   ]
  },
  {
   "cell_type": "code",
   "execution_count": 7,
   "id": "24446d81",
   "metadata": {},
   "outputs": [
    {
     "data": {
      "text/plain": [
       "'SUCCESS'"
      ]
     },
     "execution_count": 7,
     "metadata": {},
     "output_type": "execute_result"
    }
   ],
   "source": [
    "wml_client.set.default_space(SPACE_ID) "
   ]
  },
  {
   "cell_type": "code",
   "execution_count": 12,
   "id": "9448d8f5",
   "metadata": {},
   "outputs": [],
   "source": [
    "import tensorflow as tf \n",
    "from tensorflow.keras.models import Sequential \n",
    "from tensorflow.keras.layers import Conv3D, LSTM, Dense, Dropout, Bidirectional, MaxPool3D, Activation, Reshape, SpatialDropout3D, BatchNormalization, TimeDistributed, Flatten \n",
    "import os \n",
    "\n",
    "\n",
    "vocab = \"abcdefghijklmnopqrstuvwxyz'?!123456789 \" \n",
    "vocab = [x for x in vocab] \n",
    "\n",
    "char_to_num = tf.keras.layers.StringLookup(vocabulary=vocab, oov_token = \"\") \n",
    "num_to_char = tf.keras.layers.StringLookup(vocabulary = char_to_num.get_vocabulary(), oov_token = \"\", invert = True)  \n",
    "\n",
    "# MODEL \n",
    "\n",
    "# vocab = \"abcdefghijklmnopqrstuvwxyz'?!123456789 \" \n",
    "# vocab = [x for x in vocab] \n",
    "\n",
    "# char_to_num = tf.keras.layers.StringLookup(vocabulary=vocab, oov_token = \"\") \n",
    "# num_to_char = tf.keras.layers.StringLookup(vocabulary = char_to_num.get_vocabulary(), oov_token = \"\", invert = True)  \n",
    "\n",
    "\n",
    "def LipNet(): \n",
    "    model = Sequential()\n",
    "    model.add(Conv3D(128, 3, input_shape=(75,46,140,1), padding='same'))\n",
    "    model.add(Activation('relu'))\n",
    "    model.add(MaxPool3D((1,2,2)))\n",
    "    \n",
    "    model.add(Conv3D(256, 3, padding='same'))\n",
    "    model.add(Activation('relu'))\n",
    "    model.add(MaxPool3D((1,2,2)))\n",
    "    \n",
    "    model.add(Conv3D(75, 3, padding='same'))\n",
    "    model.add(Activation('relu'))\n",
    "    model.add(MaxPool3D((1,2,2)))\n",
    "    \n",
    "    model.add(TimeDistributed(Flatten()))\n",
    "    \n",
    "    model.add(Bidirectional(LSTM(128, kernel_initializer='Orthogonal', return_sequences=True)))\n",
    "    model.add(Dropout(.5))\n",
    "    \n",
    "    model.add(Bidirectional(LSTM(128, kernel_initializer='Orthogonal', return_sequences=True)))\n",
    "    model.add(Dropout(.5))\n",
    "    \n",
    "    model.add(Dense(char_to_num.vocabulary_size()+1, kernel_initializer='he_normal', activation='softmax')) \n",
    "    \n",
    "    #model.load_weights(\"../models/best_model/checkpoint\") \n",
    "       \n",
    "    return model "
   ]
  },
  {
   "cell_type": "code",
   "execution_count": 13,
   "id": "ec242b4a",
   "metadata": {},
   "outputs": [],
   "source": [
    "model = LipNet() "
   ]
  },
  {
   "cell_type": "code",
   "execution_count": 16,
   "id": "1bb37ea7",
   "metadata": {},
   "outputs": [
    {
     "data": {
      "text/plain": [
       "<tensorflow.python.checkpoint.checkpoint.CheckpointLoadStatus at 0x251657f64c0>"
      ]
     },
     "execution_count": 16,
     "metadata": {},
     "output_type": "execute_result"
    }
   ],
   "source": [
    "model.load_weights(\"./models/best_model/checkpoint\") "
   ]
  },
  {
   "cell_type": "code",
   "execution_count": 10,
   "id": "d1d40113",
   "metadata": {},
   "outputs": [
    {
     "data": {
      "text/plain": [
       "['.ipynb_checkpoints',\n",
       " 'Dataset',\n",
       " 'LipNet.h5',\n",
       " 'LipNet.tgz',\n",
       " 'MLUtils',\n",
       " 'models',\n",
       " 'Test',\n",
       " 'watson_deployment.ipynb',\n",
       " 'WebApp',\n",
       " '__pycache__']"
      ]
     },
     "execution_count": 10,
     "metadata": {},
     "output_type": "execute_result"
    }
   ],
   "source": [
    "os.listdir()  "
   ]
  },
  {
   "cell_type": "code",
   "execution_count": 17,
   "id": "74d5e4e6",
   "metadata": {},
   "outputs": [
    {
     "data": {
      "text/plain": [
       "<keras.engine.sequential.Sequential at 0x2515b844910>"
      ]
     },
     "execution_count": 17,
     "metadata": {},
     "output_type": "execute_result"
    }
   ],
   "source": [
    "model "
   ]
  },
  {
   "cell_type": "code",
   "execution_count": 11,
   "id": "cafb86fc",
   "metadata": {},
   "outputs": [],
   "source": [
    "MODEL_NAME = \"LipNet Tensorflow\" \n",
    "DEPLOYMENT_NAME = \"LipNet Deployment\"  "
   ]
  },
  {
   "cell_type": "code",
   "execution_count": 12,
   "id": "f7c1b667",
   "metadata": {},
   "outputs": [],
   "source": [
    "software_spec_uid = wml_client.software_specifications.get_id_by_name(\"runtime-22.2-py3.10\")    "
   ]
  },
  {
   "cell_type": "code",
   "execution_count": 13,
   "id": "8a451cb0",
   "metadata": {},
   "outputs": [
    {
     "data": {
      "text/plain": [
       "'b56101f1-309d-549b-a849-eaa63f77b2fb'"
      ]
     },
     "execution_count": 13,
     "metadata": {},
     "output_type": "execute_result"
    }
   ],
   "source": [
    "software_spec_uid"
   ]
  },
  {
   "cell_type": "code",
   "execution_count": 14,
   "id": "aed91353",
   "metadata": {},
   "outputs": [],
   "source": [
    "model_props = {\n",
    "    wml_client.repository.ModelMetaNames.NAME: MODEL_NAME, \n",
    "    wml_client.repository.ModelMetaNames.TYPE: \"tensorflow_2.9\",   \n",
    "    #wml_client.repository.ModelMetaNames.FRAMEWORK_NAME:\"tensorflow\", \n",
    "    #wml_client.repository.ModelMetaNames.FRAMEWORK_VERSION: \"2.10\",  \n",
    "    #wml_client.repository.ModelMetaNames.FRAMEWORK_LIBRARIES:[{'name':'keras', 'version': '2.4'}],  \n",
    "    wml_client.repository.ModelMetaNames.SOFTWARE_SPEC_UID: software_spec_uid \n",
    "}"
   ]
  },
  {
   "cell_type": "code",
   "execution_count": 15,
   "id": "a3b94596",
   "metadata": {},
   "outputs": [],
   "source": [
    "best_model = \"./LipNet.tgz\" "
   ]
  },
  {
   "cell_type": "code",
   "execution_count": 16,
   "id": "92ea3d7f",
   "metadata": {},
   "outputs": [
    {
     "data": {
      "text/plain": [
       "{'resources': []}"
      ]
     },
     "execution_count": 16,
     "metadata": {},
     "output_type": "execute_result"
    }
   ],
   "source": [
    "wml_client.deployments.get_details() "
   ]
  },
  {
   "cell_type": "code",
   "execution_count": 17,
   "id": "0619cab9",
   "metadata": {
    "scrolled": true
   },
   "outputs": [],
   "source": [
    "model_details = wml_client.repository.store_model(\n",
    "    model = best_model,   \n",
    "    meta_props = model_props \n",
    ") "
   ]
  },
  {
   "cell_type": "code",
   "execution_count": 18,
   "id": "7e354671",
   "metadata": {
    "scrolled": true
   },
   "outputs": [
    {
     "name": "stdout",
     "output_type": "stream",
     "text": [
      "------------------------------------  -----------------  ------------------------  --------------  ----------  ----------------\n",
      "ID                                    NAME               CREATED                   TYPE            SPEC_STATE  SPEC_REPLACEMENT\n",
      "07705a9a-7dc0-432f-8375-9c1f1b0ece9f  LipNet Tensorflow  2023-08-30T13:02:17.002Z  tensorflow_2.9  supported\n",
      "------------------------------------  -----------------  ------------------------  --------------  ----------  ----------------\n"
     ]
    },
    {
     "data": {
      "text/html": [
       "<div>\n",
       "<style scoped>\n",
       "    .dataframe tbody tr th:only-of-type {\n",
       "        vertical-align: middle;\n",
       "    }\n",
       "\n",
       "    .dataframe tbody tr th {\n",
       "        vertical-align: top;\n",
       "    }\n",
       "\n",
       "    .dataframe thead th {\n",
       "        text-align: right;\n",
       "    }\n",
       "</style>\n",
       "<table border=\"1\" class=\"dataframe\">\n",
       "  <thead>\n",
       "    <tr style=\"text-align: right;\">\n",
       "      <th></th>\n",
       "      <th>ID</th>\n",
       "      <th>NAME</th>\n",
       "      <th>CREATED</th>\n",
       "      <th>TYPE</th>\n",
       "      <th>SPEC_STATE</th>\n",
       "      <th>SPEC_REPLACEMENT</th>\n",
       "    </tr>\n",
       "  </thead>\n",
       "  <tbody>\n",
       "    <tr>\n",
       "      <th>0</th>\n",
       "      <td>07705a9a-7dc0-432f-8375-9c1f1b0ece9f</td>\n",
       "      <td>LipNet Tensorflow</td>\n",
       "      <td>2023-08-30T13:02:17.002Z</td>\n",
       "      <td>tensorflow_2.9</td>\n",
       "      <td>supported</td>\n",
       "      <td></td>\n",
       "    </tr>\n",
       "  </tbody>\n",
       "</table>\n",
       "</div>"
      ],
      "text/plain": [
       "                                     ID               NAME  \\\n",
       "0  07705a9a-7dc0-432f-8375-9c1f1b0ece9f  LipNet Tensorflow   \n",
       "\n",
       "                    CREATED            TYPE SPEC_STATE SPEC_REPLACEMENT  \n",
       "0  2023-08-30T13:02:17.002Z  tensorflow_2.9  supported                   "
      ]
     },
     "execution_count": 18,
     "metadata": {},
     "output_type": "execute_result"
    }
   ],
   "source": [
    "wml_client.repository.list_models()  "
   ]
  },
  {
   "cell_type": "code",
   "execution_count": 19,
   "id": "47e185a8",
   "metadata": {},
   "outputs": [
    {
     "data": {
      "text/plain": [
       "{'entity': {'hybrid_pipeline_software_specs': [],\n",
       "  'software_spec': {'id': 'b56101f1-309d-549b-a849-eaa63f77b2fb',\n",
       "   'name': 'runtime-22.2-py3.10'},\n",
       "  'type': 'tensorflow_2.9'},\n",
       " 'metadata': {'created_at': '2023-08-30T13:02:17.573Z',\n",
       "  'id': '07705a9a-7dc0-432f-8375-9c1f1b0ece9f',\n",
       "  'modified_at': '2023-08-30T13:02:29.931Z',\n",
       "  'name': 'LipNet Tensorflow',\n",
       "  'owner': 'IBMid-6680017HMM',\n",
       "  'resource_key': 'b1e7be61-d74f-43fe-b3db-5211a8c41244',\n",
       "  'space_id': '6c81a779-0c13-4fbf-8a92-7977342d693d'},\n",
       " 'system': {'warnings': []}}"
      ]
     },
     "execution_count": 19,
     "metadata": {},
     "output_type": "execute_result"
    }
   ],
   "source": [
    "model_details "
   ]
  },
  {
   "cell_type": "code",
   "execution_count": 20,
   "id": "b58da6bb",
   "metadata": {},
   "outputs": [],
   "source": [
    "model_uid = model_details[\"metadata\"][\"id\"] "
   ]
  },
  {
   "cell_type": "code",
   "execution_count": 21,
   "id": "bfbe4a59",
   "metadata": {},
   "outputs": [
    {
     "data": {
      "text/plain": [
       "'07705a9a-7dc0-432f-8375-9c1f1b0ece9f'"
      ]
     },
     "execution_count": 21,
     "metadata": {},
     "output_type": "execute_result"
    }
   ],
   "source": [
    "model_uid "
   ]
  },
  {
   "cell_type": "code",
   "execution_count": 22,
   "id": "fdc70083",
   "metadata": {},
   "outputs": [
    {
     "name": "stdout",
     "output_type": "stream",
     "text": [
      "\n",
      "\n",
      "#######################################################################################\n",
      "\n",
      "Synchronous deployment creation for uid: '07705a9a-7dc0-432f-8375-9c1f1b0ece9f' started\n",
      "\n",
      "#######################################################################################\n",
      "\n",
      "\n",
      "initializing\n",
      "Note: online_url is deprecated and will be removed in a future release. Use serving_urls instead.\n",
      "....\n",
      "ready\n",
      "\n",
      "\n",
      "------------------------------------------------------------------------------------------------\n",
      "Successfully finished deployment creation, deployment_uid='5015465f-770f-459a-9a06-c071fd198ffd'\n",
      "------------------------------------------------------------------------------------------------\n",
      "\n",
      "\n"
     ]
    }
   ],
   "source": [
    "# deployment Props \n",
    "deployment_props = {\n",
    "    wml_client.deployments.ConfigurationMetaNames.NAME:DEPLOYMENT_NAME, \n",
    "    wml_client.deployments.ConfigurationMetaNames.ONLINE: {} \n",
    "}\n",
    "\n",
    "#actual deployment \n",
    "deployment = wml_client.deployments.create(\n",
    "    artifact_uid = model_uid, \n",
    "    meta_props = deployment_props \n",
    ") "
   ]
  },
  {
   "cell_type": "code",
   "execution_count": 23,
   "id": "3a77786a",
   "metadata": {},
   "outputs": [
    {
     "data": {
      "text/plain": [
       "{'entity': {'asset': {'id': '07705a9a-7dc0-432f-8375-9c1f1b0ece9f'},\n",
       "  'custom': {},\n",
       "  'deployed_asset_type': 'model',\n",
       "  'hardware_spec': {'id': 'f3ebac7d-0a75-410c-8b48-a931428cc4c5',\n",
       "   'name': 'XS',\n",
       "   'num_nodes': 1},\n",
       "  'name': 'LipNet Deployment',\n",
       "  'online': {},\n",
       "  'space_id': '6c81a779-0c13-4fbf-8a92-7977342d693d',\n",
       "  'status': {'online_url': {'url': 'https://us-south.ml.cloud.ibm.com/ml/v4/deployments/5015465f-770f-459a-9a06-c071fd198ffd/predictions'},\n",
       "   'serving_urls': ['https://us-south.ml.cloud.ibm.com/ml/v4/deployments/5015465f-770f-459a-9a06-c071fd198ffd/predictions'],\n",
       "   'state': 'ready'}},\n",
       " 'metadata': {'created_at': '2023-08-30T13:03:39.279Z',\n",
       "  'id': '5015465f-770f-459a-9a06-c071fd198ffd',\n",
       "  'modified_at': '2023-08-30T13:03:39.279Z',\n",
       "  'name': 'LipNet Deployment',\n",
       "  'owner': 'IBMid-6680017HMM',\n",
       "  'space_id': '6c81a779-0c13-4fbf-8a92-7977342d693d'},\n",
       " 'system': {'warnings': [{'id': 'Deprecated',\n",
       "    'message': 'online_url is deprecated and will be removed in a future release. Use serving_urls instead.'}]}}"
      ]
     },
     "execution_count": 23,
     "metadata": {},
     "output_type": "execute_result"
    }
   ],
   "source": [
    "deployment "
   ]
  },
  {
   "cell_type": "code",
   "execution_count": null,
   "id": "d046b30a",
   "metadata": {},
   "outputs": [],
   "source": []
  },
  {
   "cell_type": "code",
   "execution_count": null,
   "id": "97c91b45",
   "metadata": {},
   "outputs": [],
   "source": []
  },
  {
   "cell_type": "markdown",
   "id": "ca5d3aee",
   "metadata": {},
   "source": [
    "# Converting Model into .h5 Format and into tgz format "
   ]
  },
  {
   "cell_type": "code",
   "execution_count": 27,
   "id": "ad00f8e0",
   "metadata": {},
   "outputs": [
    {
     "data": {
      "text/plain": [
       "['.ipynb_checkpoints',\n",
       " 'Dataset',\n",
       " 'deployment.ipynb',\n",
       " 'MLUtils',\n",
       " 'models',\n",
       " 'Test',\n",
       " 'WebApp',\n",
       " '__pycache__']"
      ]
     },
     "execution_count": 27,
     "metadata": {},
     "output_type": "execute_result"
    }
   ],
   "source": [
    "os.listdir() "
   ]
  },
  {
   "cell_type": "code",
   "execution_count": 28,
   "id": "6ea588b5",
   "metadata": {},
   "outputs": [
    {
     "name": "stdout",
     "output_type": "stream",
     "text": [
      "WARNING:tensorflow:Compiled the loaded model, but the compiled metrics have yet to be built. `model.compile_metrics` will be empty until you train or evaluate the model.\n"
     ]
    }
   ],
   "source": [
    "model.save(\"LipNet.h5\") "
   ]
  },
  {
   "cell_type": "code",
   "execution_count": 29,
   "id": "13dd12ee",
   "metadata": {},
   "outputs": [
    {
     "data": {
      "text/plain": [
       "['.ipynb_checkpoints',\n",
       " 'Dataset',\n",
       " 'deployment.ipynb',\n",
       " 'LipNet.h5',\n",
       " 'MLUtils',\n",
       " 'models',\n",
       " 'Test',\n",
       " 'WebApp',\n",
       " '__pycache__']"
      ]
     },
     "execution_count": 29,
     "metadata": {},
     "output_type": "execute_result"
    }
   ],
   "source": [
    "os.listdir() "
   ]
  },
  {
   "cell_type": "code",
   "execution_count": 31,
   "id": "179a9688",
   "metadata": {},
   "outputs": [
    {
     "name": "stderr",
     "output_type": "stream",
     "text": [
      "a LipNet.h5\n"
     ]
    }
   ],
   "source": [
    "!tar -zcvf LipNet.tgz LipNet.h5 "
   ]
  },
  {
   "cell_type": "code",
   "execution_count": 32,
   "id": "c87b681a",
   "metadata": {},
   "outputs": [
    {
     "data": {
      "text/plain": [
       "['.ipynb_checkpoints',\n",
       " 'Dataset',\n",
       " 'deployment.ipynb',\n",
       " 'LipNet.h5',\n",
       " 'LipNet.tgz',\n",
       " 'MLUtils',\n",
       " 'models',\n",
       " 'Test',\n",
       " 'WebApp',\n",
       " '__pycache__']"
      ]
     },
     "execution_count": 32,
     "metadata": {},
     "output_type": "execute_result"
    }
   ],
   "source": [
    "os.listdir() "
   ]
  },
  {
   "cell_type": "code",
   "execution_count": 34,
   "id": "157012d2",
   "metadata": {},
   "outputs": [
    {
     "data": {
      "text/plain": [
       "'2.10.0'"
      ]
     },
     "execution_count": 34,
     "metadata": {},
     "output_type": "execute_result"
    }
   ],
   "source": [
    "tf.keras.__version__ "
   ]
  },
  {
   "cell_type": "code",
   "execution_count": 35,
   "id": "e88a61b5",
   "metadata": {},
   "outputs": [
    {
     "data": {
      "text/plain": [
       "'2.10.0'"
      ]
     },
     "execution_count": 35,
     "metadata": {},
     "output_type": "execute_result"
    }
   ],
   "source": [
    "tf.__version__ "
   ]
  },
  {
   "cell_type": "code",
   "execution_count": null,
   "id": "78a04298",
   "metadata": {},
   "outputs": [],
   "source": []
  }
 ],
 "metadata": {
  "kernelspec": {
   "display_name": "alphaAxon",
   "language": "python",
   "name": "alphaaxon"
  },
  "language_info": {
   "codemirror_mode": {
    "name": "ipython",
    "version": 3
   },
   "file_extension": ".py",
   "mimetype": "text/x-python",
   "name": "python",
   "nbconvert_exporter": "python",
   "pygments_lexer": "ipython3",
   "version": "3.9.17"
  }
 },
 "nbformat": 4,
 "nbformat_minor": 5
}
