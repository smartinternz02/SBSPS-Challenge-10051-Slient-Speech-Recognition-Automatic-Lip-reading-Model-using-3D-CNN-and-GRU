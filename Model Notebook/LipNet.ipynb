{
 "cells": [
  {
   "cell_type": "markdown",
   "id": "a3573a47-3689-4668-b62f-5c8451b2b4e9",
   "metadata": {
    "tags": []
   },
   "source": [
    "# 0. Install and Import Dependencies"
   ]
  },
  {
   "cell_type": "code",
   "execution_count": null,
   "id": "ddfbccbe-41ae-4c23-98b1-a13868e2b499",
   "metadata": {
    "scrolled": true,
    "tags": []
   },
   "outputs": [],
   "source": [
    "!pip list"
   ]
  },
  {
   "cell_type": "code",
   "execution_count": null,
   "id": "93643254",
   "metadata": {},
   "outputs": [],
   "source": []
  },
  {
   "cell_type": "code",
   "execution_count": 1,
   "id": "b24af50c-20b8-409d-ad78-30a933fdd669",
   "metadata": {
    "tags": []
   },
   "outputs": [],
   "source": [
    "import os\n",
    "import cv2\n",
    "import tensorflow as tf\n",
    "import numpy as np\n",
    "from typing import List\n",
    "from matplotlib import pyplot as plt\n",
    "import imageio\n",
    "import dlib "
   ]
  },
  {
   "cell_type": "code",
   "execution_count": 2,
   "id": "1e3db0b0-e559-4ad6-91fd-e7414b7d75e6",
   "metadata": {},
   "outputs": [
    {
     "data": {
      "text/plain": [
       "[PhysicalDevice(name='/physical_device:GPU:0', device_type='GPU')]"
      ]
     },
     "execution_count": 2,
     "metadata": {},
     "output_type": "execute_result"
    }
   ],
   "source": [
    "tf.config.list_physical_devices('GPU')"
   ]
  },
  {
   "cell_type": "code",
   "execution_count": 3,
   "id": "378d045a-3003-4f93-b7d2-a25a97774a68",
   "metadata": {
    "tags": []
   },
   "outputs": [],
   "source": [
    "physical_devices = tf.config.list_physical_devices('GPU')\n",
    "try:\n",
    "    tf.config.experimental.set_memory_growth(physical_devices[0], True)\n",
    "except:\n",
    "    pass"
   ]
  },
  {
   "cell_type": "code",
   "execution_count": 4,
   "id": "cbb15ce8",
   "metadata": {},
   "outputs": [
    {
     "data": {
      "text/plain": [
       "True"
      ]
     },
     "execution_count": 4,
     "metadata": {},
     "output_type": "execute_result"
    }
   ],
   "source": [
    "tf.config.experimental.get_memory_growth(physical_devices[0])  "
   ]
  },
  {
   "cell_type": "markdown",
   "id": "7a19e88e-c7b9-45c1-ae1e-f2109329c71b",
   "metadata": {
    "tags": []
   },
   "source": [
    "# 1. Build Data Loading Functions"
   ]
  },
  {
   "cell_type": "code",
   "execution_count": 5,
   "id": "8548cc59-6dfc-4acc-abc3-3e65212db02e",
   "metadata": {
    "tags": []
   },
   "outputs": [],
   "source": [
    "\n",
    "def load_video(video_path, display = False, output_path = False):   \n",
    "\n",
    "    cap = cv2.VideoCapture(video_path)  \n",
    "\n",
    "    face_detector = dlib.get_frontal_face_detector() \n",
    "\n",
    "    CROP_HEIGHT = 46 #input Parameter of the Model \n",
    "    CROP_WIDTH = 140 #imput Parameter of the Model\n",
    "\n",
    "    FACE_HEIGHT = 0.5 \n",
    "\n",
    "    lip_frames = [] \n",
    "\n",
    "    target_width = target_height = None \n",
    "\n",
    "    if output_path: \n",
    "        output_fourcc = cv2.VideoWriter_fourcc(*\"MP4V\")      \n",
    "        output = cv2.VideoWriter(output_path, output_fourcc,cap.get(5), (CROP_HEIGHT, CROP_WIDTH))      \n",
    "\n",
    "    while True:\n",
    "\n",
    "        status, frame = cap.read() \n",
    "        \n",
    "        if not status:\n",
    "            break\n",
    "\n",
    "        gray = cv2.cvtColor(frame, cv2.COLOR_BGR2GRAY) \n",
    "        faces = face_detector(gray) \n",
    "\n",
    "        if(len(faces)): \n",
    "            face = faces[0]   \n",
    "            x, y, height, width = face.left(), face.top(), face.height(), face.width() \n",
    "            height = int(height*FACE_HEIGHT) \n",
    "            if(target_width is None or target_height is None):\n",
    "                target_width = width  \n",
    "                target_height = height \n",
    "            else:\n",
    "                target_width = max(target_width, width) \n",
    "                target_height = max(target_height, height) \n",
    "\n",
    "            cropped_frame = cv2.resize(frame[y+height: y+(height*2), x: x+width], (target_width, target_height)) \n",
    "            cropped_frame = cv2.resize(cropped_frame, (CROP_WIDTH, CROP_HEIGHT))  \n",
    "            cropped_frame = tf.image.rgb_to_grayscale(cropped_frame)     \n",
    "            lip_frames.append(cropped_frame)  \n",
    "\n",
    "        else:\n",
    "            cropped_frame = np.zeros((CROP_WIDTH,CROP_HEIGHT,3))    \n",
    "\n",
    "            # pass   \n",
    "\n",
    "        if display:  \n",
    "            try:    \n",
    "                cv2.imshow(\"Lips\", cropped_frame) \n",
    "                cv2.imshow(\"Normal\",frame)  \n",
    "            except Exception as e:\n",
    "                print(e) \n",
    "                pass \n",
    "\n",
    "        if output_path:   \n",
    "            output.write(cropped_frame)  \n",
    "\n",
    "        if(cv2.waitKey(1) == ord('q')):\n",
    "            break \n",
    "\n",
    "    cap.release() \n",
    "    cv2.destroyAllWindows()  \n",
    "\n",
    "#processing Video Frames \n",
    "\n",
    "    mean = tf.math.reduce_mean(lip_frames)    \n",
    "    std = tf.math.reduce_std(tf.cast(lip_frames, tf.float32))  \n",
    "\n",
    "    processed = tf.cast(lip_frames - mean, tf.float32) / std \n",
    "\n",
    "    # return lip_frames  # Returns BGR IMAGE \n",
    "    # print(type(processed)) \n",
    "\n",
    "    # print(lip_frames) \n",
    " \n",
    "\n",
    "    # while True:\n",
    "    #     for frame in processed.numpy():   \n",
    "    #         cv2.imshow(\"Processed\",frame)\n",
    "\n",
    "    #     if cv2.waitKey(1) == ord('q'):\n",
    "    #         break    \n",
    "\n",
    "    # cv2.destroyAllWindows()          \n",
    "\n",
    "    return processed "
   ]
  },
  {
   "cell_type": "code",
   "execution_count": 6,
   "id": "ec735e0b-ec98-4eb0-8f49-c35527d6670a",
   "metadata": {
    "tags": []
   },
   "outputs": [],
   "source": [
    "vocab = [x for x in \"abcdefghijklmnopqrstuvwxyz'?!123456789 \"]"
   ]
  },
  {
   "cell_type": "code",
   "execution_count": 7,
   "id": "be04e972-d7a5-4a72-82d8-a6bdde1f3ce6",
   "metadata": {
    "tags": []
   },
   "outputs": [
    {
     "name": "stdout",
     "output_type": "stream",
     "text": [
      "The vocabulary is: ['', 'a', 'b', 'c', 'd', 'e', 'f', 'g', 'h', 'i', 'j', 'k', 'l', 'm', 'n', 'o', 'p', 'q', 'r', 's', 't', 'u', 'v', 'w', 'x', 'y', 'z', \"'\", '?', '!', '1', '2', '3', '4', '5', '6', '7', '8', '9', ' '] (size =40)\n"
     ]
    }
   ],
   "source": [
    "char_to_num = tf.keras.layers.StringLookup(vocabulary=vocab, oov_token=\"\")\n",
    "num_to_char = tf.keras.layers.StringLookup(\n",
    "    vocabulary=char_to_num.get_vocabulary(), oov_token=\"\", invert=True\n",
    ")\n",
    "\n",
    "print(\n",
    "    f\"The vocabulary is: {char_to_num.get_vocabulary()} \"\n",
    "    f\"(size ={char_to_num.vocabulary_size()})\"\n",
    ")"
   ]
  },
  {
   "cell_type": "code",
   "execution_count": 8,
   "id": "559f7420-6802-45fa-9ca0-b1ff209b461c",
   "metadata": {
    "tags": []
   },
   "outputs": [
    {
     "data": {
      "text/plain": [
       "['',\n",
       " 'a',\n",
       " 'b',\n",
       " 'c',\n",
       " 'd',\n",
       " 'e',\n",
       " 'f',\n",
       " 'g',\n",
       " 'h',\n",
       " 'i',\n",
       " 'j',\n",
       " 'k',\n",
       " 'l',\n",
       " 'm',\n",
       " 'n',\n",
       " 'o',\n",
       " 'p',\n",
       " 'q',\n",
       " 'r',\n",
       " 's',\n",
       " 't',\n",
       " 'u',\n",
       " 'v',\n",
       " 'w',\n",
       " 'x',\n",
       " 'y',\n",
       " 'z',\n",
       " \"'\",\n",
       " '?',\n",
       " '!',\n",
       " '1',\n",
       " '2',\n",
       " '3',\n",
       " '4',\n",
       " '5',\n",
       " '6',\n",
       " '7',\n",
       " '8',\n",
       " '9',\n",
       " ' ']"
      ]
     },
     "execution_count": 8,
     "metadata": {},
     "output_type": "execute_result"
    }
   ],
   "source": [
    "char_to_num.get_vocabulary()"
   ]
  },
  {
   "cell_type": "code",
   "execution_count": 9,
   "id": "797ff78b-b48f-4e14-bb62-8cd0ebf9501a",
   "metadata": {
    "tags": []
   },
   "outputs": [
    {
     "data": {
      "text/plain": [
       "<tf.Tensor: shape=(5,), dtype=int64, numpy=array([ 1, 12, 16,  8,  1], dtype=int64)>"
      ]
     },
     "execution_count": 9,
     "metadata": {},
     "output_type": "execute_result"
    }
   ],
   "source": [
    "char_to_num(['a','l','p','h','a']) "
   ]
  },
  {
   "cell_type": "code",
   "execution_count": 10,
   "id": "8cd7f4f4-ae77-4509-a4f4-c723787ebad1",
   "metadata": {},
   "outputs": [
    {
     "data": {
      "text/plain": [
       "<tf.Tensor: shape=(5,), dtype=string, numpy=array([b'a', b'l', b'p', b'h', b'a'], dtype=object)>"
      ]
     },
     "execution_count": 10,
     "metadata": {},
     "output_type": "execute_result"
    }
   ],
   "source": [
    "num_to_char([1, 12, 16,  8,  1]) "
   ]
  },
  {
   "cell_type": "code",
   "execution_count": 11,
   "id": "9491bab5-6a3c-4f79-879a-8f9fbe73ae2e",
   "metadata": {
    "tags": []
   },
   "outputs": [],
   "source": [
    "def load_alignments(path:str) -> List[str]: \n",
    "    with open(path, 'r') as f: \n",
    "        lines = f.readlines() \n",
    "    tokens = []\n",
    "    for line in lines:\n",
    "        line = line.split()\n",
    "        if line[2] != 'sil': \n",
    "            tokens = [*tokens,' ',line[2]]\n",
    "    return char_to_num(tf.reshape(tf.strings.unicode_split(tokens, input_encoding='UTF-8'), (-1)))[1:]"
   ]
  },
  {
   "cell_type": "code",
   "execution_count": 12,
   "id": "af6ddfbe",
   "metadata": {},
   "outputs": [
    {
     "data": {
      "text/plain": [
       "<tf.Tensor: shape=(21,), dtype=int64, numpy=\n",
       "array([ 2,  9, 14, 39,  2, 12, 21,  5, 39,  1, 20, 39,  6, 39, 20, 23, 15,\n",
       "       39, 14, 15, 23], dtype=int64)>"
      ]
     },
     "execution_count": 12,
     "metadata": {},
     "output_type": "execute_result"
    }
   ],
   "source": [
    "load_alignments(\"test.align\")  "
   ]
  },
  {
   "cell_type": "code",
   "execution_count": 13,
   "id": "dd01ca9f-77fb-4643-a2aa-47dd82c5d66b",
   "metadata": {
    "tags": []
   },
   "outputs": [],
   "source": [
    "def load_data(path: str): \n",
    "    path = bytes.decode(path.numpy())\n",
    "    #file_name = path.split('/')[-1].split('.')[0]\n",
    "    # File name splitting for windows\n",
    "    file_path = path.split(\"\\\\\") \n",
    "    folder_name = path.split(\"\\\\\")[-2] \n",
    "    file_name = path.split('\\\\')[-1].split('.')[0]\n",
    "    video_path = os.path.join(\".\",\"GRID\",\"data\",folder_name,f'{file_name}.mpg')\n",
    "    alignment_path = os.path.join(\".\",\"GRID\",'alignments',folder_name,f'{file_name}.align') \n",
    "    frames = load_video(video_path) \n",
    "    alignments = load_alignments(alignment_path)\n",
    "    \n",
    "    return frames, alignments"
   ]
  },
  {
   "cell_type": "code",
   "execution_count": 30,
   "id": "8658dae5",
   "metadata": {},
   "outputs": [],
   "source": [
    "test_path = os.path.join(\".\",\"GRID\",\"data\", \"s1\",\"bbbf8p.mpg\")   "
   ]
  },
  {
   "cell_type": "code",
   "execution_count": 31,
   "id": "21280cec",
   "metadata": {},
   "outputs": [
    {
     "data": {
      "text/plain": [
       "'.\\\\GRID\\\\data\\\\s1\\\\bbbf8p.mpg'"
      ]
     },
     "execution_count": 31,
     "metadata": {},
     "output_type": "execute_result"
    }
   ],
   "source": [
    "test_path "
   ]
  },
  {
   "cell_type": "code",
   "execution_count": 32,
   "id": "8cb7cc58-31ae-4904-a805-1177a82717d2",
   "metadata": {
    "tags": []
   },
   "outputs": [],
   "source": [
    "#test_path = \"test_4.mp4\" #'.\\\\GRID\\\\s1\\\\bbal6n.mpg'"
   ]
  },
  {
   "cell_type": "code",
   "execution_count": 33,
   "id": "76aa964f-0c84-490d-897a-d00e3966e2c9",
   "metadata": {},
   "outputs": [
    {
     "data": {
      "text/plain": [
       "'bbbf8p'"
      ]
     },
     "execution_count": 33,
     "metadata": {},
     "output_type": "execute_result"
    }
   ],
   "source": [
    "tf.convert_to_tensor(test_path).numpy().decode('utf-8').split('\\\\')[-1].split('.')[0]"
   ]
  },
  {
   "cell_type": "code",
   "execution_count": 34,
   "id": "eb602c71-8560-4f9e-b26b-08202febb937",
   "metadata": {
    "scrolled": true,
    "tags": []
   },
   "outputs": [],
   "source": [
    "frames, alignments = load_data(tf.convert_to_tensor(test_path))"
   ]
  },
  {
   "cell_type": "code",
   "execution_count": 36,
   "id": "0e3184a1-6b02-4b4f-84a8-a0a65f951ea2",
   "metadata": {},
   "outputs": [
    {
     "data": {
      "text/plain": [
       "<matplotlib.image.AxesImage at 0x1d813201070>"
      ]
     },
     "execution_count": 36,
     "metadata": {},
     "output_type": "execute_result"
    },
    {
     "data": {
      "image/png": "[encoded data removed]",
      "text/plain": [
       "<Figure size 640x480 with 1 Axes>"
      ]
     },
     "metadata": {},
     "output_type": "display_data"
    }
   ],
   "source": [
    "plt.imshow(frames[50])  "
   ]
  },
  {
   "cell_type": "code",
   "execution_count": 37,
   "id": "d7ec0833-d54b-4073-84cf-92d011c60ec1",
   "metadata": {},
   "outputs": [
    {
     "data": {
      "text/plain": [
       "<tf.Tensor: shape=(26,), dtype=int64, numpy=\n",
       "array([ 2,  9, 14, 39,  2, 12, 21,  5, 39,  2, 25, 39,  6, 39,  5,  9,  7,\n",
       "        8, 20, 39, 16, 12,  5,  1, 19,  5], dtype=int64)>"
      ]
     },
     "execution_count": 37,
     "metadata": {},
     "output_type": "execute_result"
    }
   ],
   "source": [
    "alignments"
   ]
  },
  {
   "cell_type": "code",
   "execution_count": 38,
   "id": "fe1ad370-b287-4b46-85a2-7c45b0bd9b10",
   "metadata": {},
   "outputs": [
    {
     "data": {
      "text/plain": [
       "<tf.Tensor: shape=(), dtype=string, numpy=b'bin blue by f eight please'>"
      ]
     },
     "execution_count": 38,
     "metadata": {},
     "output_type": "execute_result"
    }
   ],
   "source": [
    "tf.strings.reduce_join([bytes.decode(x) for x in num_to_char(alignments.numpy()).numpy()])"
   ]
  },
  {
   "cell_type": "code",
   "execution_count": 39,
   "id": "6871031a-b0ba-4c76-a852-f6329b0f2606",
   "metadata": {
    "tags": []
   },
   "outputs": [],
   "source": [
    "def mappable_function(path:str) ->List[str]:\n",
    "    result = tf.py_function(load_data, [path], (tf.float32, tf.int64))\n",
    "    return result"
   ]
  },
  {
   "cell_type": "markdown",
   "id": "c40a7eb4-0c3e-4eab-9291-5611cb68ce08",
   "metadata": {
    "tags": []
   },
   "source": [
    "# 2. Create Data Pipeline"
   ]
  },
  {
   "cell_type": "code",
   "execution_count": 40,
   "id": "7686355d-45aa-4c85-ad9c-053e6a9b4d81",
   "metadata": {
    "tags": []
   },
   "outputs": [],
   "source": [
    "from matplotlib import pyplot as plt"
   ]
  },
  {
   "cell_type": "code",
   "execution_count": 41,
   "id": "f066fea2-91b1-42ed-a67d-00566a1a53ff",
   "metadata": {
    "tags": []
   },
   "outputs": [],
   "source": [
    "data = tf.data.Dataset.list_files('./GRID/data/*/*.mpg')\n",
    "data = data.shuffle(500, reshuffle_each_iteration=False)\n",
    "data = data.map(mappable_function)\n",
    "#data = data.apply(tf.data.experimental.ignore_errors()) \n",
    "data = data.padded_batch(2, padded_shapes=([75,None,None,None],[40])) # initial batch size 2\n",
    "data = data.prefetch(tf.data.AUTOTUNE)\n",
    "# Added for split \n",
    "train = data.take(450)\n",
    "test = data.skip(450).take(100)   "
   ]
  },
  {
   "cell_type": "code",
   "execution_count": 124,
   "id": "1845d977",
   "metadata": {},
   "outputs": [
    {
     "data": {
      "text/plain": [
       "450"
      ]
     },
     "execution_count": 124,
     "metadata": {},
     "output_type": "execute_result"
    }
   ],
   "source": [
    "len(train) "
   ]
  },
  {
   "cell_type": "code",
   "execution_count": 125,
   "id": "6b1365bd-7742-41d1-95d4-247021751c3a",
   "metadata": {
    "scrolled": true
   },
   "outputs": [
    {
     "data": {
      "text/plain": [
       "100"
      ]
     },
     "execution_count": 125,
     "metadata": {},
     "output_type": "execute_result"
    }
   ],
   "source": [
    "len(test)"
   ]
  },
  {
   "cell_type": "code",
   "execution_count": 126,
   "id": "29f68f00",
   "metadata": {},
   "outputs": [],
   "source": [
    "frame, alignments= data.as_numpy_iterator().next() "
   ]
  },
  {
   "cell_type": "code",
   "execution_count": 127,
   "id": "148a27f5",
   "metadata": {},
   "outputs": [
    {
     "data": {
      "text/plain": [
       "(2, 75, 46, 140, 1)"
      ]
     },
     "execution_count": 127,
     "metadata": {},
     "output_type": "execute_result"
    }
   ],
   "source": [
    "frame.shape "
   ]
  },
  {
   "cell_type": "code",
   "execution_count": 42,
   "id": "5281bde8-fdc8-4da1-bd55-5a7929a9e80c",
   "metadata": {
    "scrolled": true
   },
   "outputs": [],
   "source": [
    "frames, alignments = data.as_numpy_iterator().next()"
   ]
  },
  {
   "cell_type": "code",
   "execution_count": 43,
   "id": "cbebe683-6afd-47fd-bba4-c83b4b13bb32",
   "metadata": {},
   "outputs": [
    {
     "data": {
      "text/plain": [
       "(2, 40)"
      ]
     },
     "execution_count": 43,
     "metadata": {},
     "output_type": "execute_result"
    }
   ],
   "source": [
    "alignments.shape "
   ]
  },
  {
   "cell_type": "code",
   "execution_count": 44,
   "id": "832ec9b3",
   "metadata": {},
   "outputs": [
    {
     "data": {
      "text/plain": [
       "(2, 75, 46, 140, 1)"
      ]
     },
     "execution_count": 44,
     "metadata": {},
     "output_type": "execute_result"
    }
   ],
   "source": [
    "frames.shape "
   ]
  },
  {
   "cell_type": "code",
   "execution_count": 45,
   "id": "45fba502",
   "metadata": {
    "scrolled": false
   },
   "outputs": [
    {
     "data": {
      "text/plain": [
       "<matplotlib.image.AxesImage at 0x1d8212cf790>"
      ]
     },
     "execution_count": 45,
     "metadata": {},
     "output_type": "execute_result"
    },
    {
     "data": {
      "image/png": "[encoded data removed]",
      "text/plain": [
       "<Figure size 640x480 with 1 Axes>"
      ]
     },
     "metadata": {},
     "output_type": "display_data"
    }
   ],
   "source": [
    "plt.imshow(frames[0][10]) "
   ]
  },
  {
   "cell_type": "code",
   "execution_count": 132,
   "id": "f94c78d9",
   "metadata": {},
   "outputs": [
    {
     "data": {
      "text/plain": [
       "(2, 75, 46, 140, 1)"
      ]
     },
     "execution_count": 132,
     "metadata": {},
     "output_type": "execute_result"
    }
   ],
   "source": [
    "frames.shape "
   ]
  },
  {
   "cell_type": "code",
   "execution_count": 133,
   "id": "5cf2d676-93a9-434c-b3c7-bdcc2577b2e7",
   "metadata": {
    "tags": []
   },
   "outputs": [],
   "source": [
    "sample = data.as_numpy_iterator()"
   ]
  },
  {
   "cell_type": "code",
   "execution_count": 134,
   "id": "efa6cd46-7079-46c0-b45b-832f339f6cb0",
   "metadata": {
    "scrolled": true,
    "tags": []
   },
   "outputs": [
    {
     "data": {
      "text/plain": [
       "array([[[[[ 2.002333  ],\n",
       "          [ 1.8235532 ],\n",
       "          [ 1.287214  ],\n",
       "          ...,\n",
       "          [ 0.67936295],\n",
       "          [ 0.7508749 ],\n",
       "          [ 0.7508749 ]],\n",
       "\n",
       "         [[ 1.7877973 ],\n",
       "          [ 1.9308211 ],\n",
       "          [ 1.6090176 ],\n",
       "          ...,\n",
       "          [ 0.7151189 ],\n",
       "          [ 0.7508749 ],\n",
       "          [ 0.7508749 ]],\n",
       "\n",
       "         [[ 2.1096008 ],\n",
       "          [ 2.1096008 ],\n",
       "          [ 1.6805295 ],\n",
       "          ...,\n",
       "          [ 0.7151189 ],\n",
       "          [ 0.7151189 ],\n",
       "          [ 0.7151189 ]],\n",
       "\n",
       "         ...,\n",
       "\n",
       "         [[ 6.0427547 ],\n",
       "          [ 6.114267  ],\n",
       "          [ 6.4003143 ],\n",
       "          ...,\n",
       "          [ 9.117766  ],\n",
       "          [ 9.08201   ],\n",
       "          [ 9.010498  ]],\n",
       "\n",
       "         [[ 6.006999  ],\n",
       "          [ 6.2572904 ],\n",
       "          [ 6.6506057 ],\n",
       "          ...,\n",
       "          [ 8.903231  ],\n",
       "          [ 8.938987  ],\n",
       "          [ 8.867475  ]],\n",
       "\n",
       "         [[ 6.0785108 ],\n",
       "          [ 6.4003143 ],\n",
       "          [ 6.9008975 ],\n",
       "          ...,\n",
       "          [ 8.366891  ],\n",
       "          [ 8.652939  ],\n",
       "          [ 8.724451  ]]],\n",
       "\n",
       "\n",
       "        [[[ 7.3657246 ],\n",
       "          [ 7.437237  ],\n",
       "          [ 7.6160164 ],\n",
       "          ...,\n",
       "          [ 0.14302379],\n",
       "          [ 9.010498  ],\n",
       "          [ 8.724451  ]],\n",
       "\n",
       "         [[ 7.4014807 ],\n",
       "          [ 7.3657246 ],\n",
       "          [ 7.5445046 ],\n",
       "          ...,\n",
       "          [ 0.07151189],\n",
       "          [ 8.903231  ],\n",
       "          [ 8.509915  ]],\n",
       "\n",
       "         [[ 7.329969  ],\n",
       "          [ 7.258457  ],\n",
       "          [ 7.4014807 ],\n",
       "          ...,\n",
       "          [ 9.010498  ],\n",
       "          [ 8.652939  ],\n",
       "          [ 8.331136  ]],\n",
       "\n",
       "         ...,\n",
       "\n",
       "         [[ 1.0726783 ],\n",
       "          [ 1.1084343 ],\n",
       "          [ 1.0726783 ],\n",
       "          ...,\n",
       "          [ 7.0081654 ],\n",
       "          [ 7.7590404 ],\n",
       "          [ 8.366891  ]],\n",
       "\n",
       "         [[ 1.0726783 ],\n",
       "          [ 1.0726783 ],\n",
       "          [ 1.0726783 ],\n",
       "          ...,\n",
       "          [ 6.364558  ],\n",
       "          [ 6.8651414 ],\n",
       "          [ 7.329969  ]],\n",
       "\n",
       "         [[ 1.1084343 ],\n",
       "          [ 1.0726783 ],\n",
       "          [ 1.0369225 ],\n",
       "          ...,\n",
       "          [ 6.114267  ],\n",
       "          [ 6.3288026 ],\n",
       "          [ 6.507582  ]]],\n",
       "\n",
       "\n",
       "        [[[ 1.6805295 ],\n",
       "          [ 1.7520413 ],\n",
       "          [ 1.251458  ],\n",
       "          ...,\n",
       "          [ 0.67936295],\n",
       "          [ 0.7151189 ],\n",
       "          [ 0.7151189 ]],\n",
       "\n",
       "         [[ 1.7877973 ],\n",
       "          [ 1.7877973 ],\n",
       "          [ 1.4659938 ],\n",
       "          ...,\n",
       "          [ 0.7151189 ],\n",
       "          [ 0.7508749 ],\n",
       "          [ 0.7508749 ]],\n",
       "\n",
       "         [[ 2.073845  ],\n",
       "          [ 2.1096008 ],\n",
       "          [ 1.7162853 ],\n",
       "          ...,\n",
       "          [ 0.67936295],\n",
       "          [ 0.7151189 ],\n",
       "          [ 0.7151189 ]],\n",
       "\n",
       "         ...,\n",
       "\n",
       "         [[ 6.114267  ],\n",
       "          [ 6.1500225 ],\n",
       "          [ 6.2930465 ],\n",
       "          ...,\n",
       "          [ 9.046254  ],\n",
       "          [ 9.117766  ],\n",
       "          [ 0.        ]],\n",
       "\n",
       "         [[ 6.0427547 ],\n",
       "          [ 6.1500225 ],\n",
       "          [ 6.579094  ],\n",
       "          ...,\n",
       "          [ 8.867475  ],\n",
       "          [ 9.010498  ],\n",
       "          [ 9.08201   ]],\n",
       "\n",
       "         [[ 6.0785108 ],\n",
       "          [ 6.3288026 ],\n",
       "          [ 6.9724092 ],\n",
       "          ...,\n",
       "          [ 8.509915  ],\n",
       "          [ 8.867475  ],\n",
       "          [ 8.938987  ]]],\n",
       "\n",
       "\n",
       "        ...,\n",
       "\n",
       "\n",
       "        [[[ 1.6805295 ],\n",
       "          [ 1.7520413 ],\n",
       "          [ 1.3944819 ],\n",
       "          ...,\n",
       "          [ 0.67936295],\n",
       "          [ 0.7508749 ],\n",
       "          [ 0.7508749 ]],\n",
       "\n",
       "         [[ 1.8950651 ],\n",
       "          [ 1.8950651 ],\n",
       "          [ 1.6090176 ],\n",
       "          ...,\n",
       "          [ 0.67936295],\n",
       "          [ 0.7151189 ],\n",
       "          [ 0.7151189 ]],\n",
       "\n",
       "         [[ 2.1096008 ],\n",
       "          [ 2.1811128 ],\n",
       "          [ 1.7162853 ],\n",
       "          ...,\n",
       "          [ 0.67936295],\n",
       "          [ 0.7151189 ],\n",
       "          [ 0.7151189 ]],\n",
       "\n",
       "         ...,\n",
       "\n",
       "         [[ 6.0785108 ],\n",
       "          [ 6.0785108 ],\n",
       "          [ 6.2930465 ],\n",
       "          ...,\n",
       "          [ 0.        ],\n",
       "          [ 0.10726783],\n",
       "          [ 0.07151189]],\n",
       "\n",
       "         [[ 6.0785108 ],\n",
       "          [ 6.114267  ],\n",
       "          [ 6.471826  ],\n",
       "          ...,\n",
       "          [ 9.010498  ],\n",
       "          [ 9.046254  ],\n",
       "          [ 9.010498  ]],\n",
       "\n",
       "         [[ 6.1500225 ],\n",
       "          [ 6.2215347 ],\n",
       "          [ 6.7578735 ],\n",
       "          ...,\n",
       "          [ 8.545671  ],\n",
       "          [ 8.724451  ],\n",
       "          [ 8.831718  ]]],\n",
       "\n",
       "\n",
       "        [[[ 7.329969  ],\n",
       "          [ 7.3657246 ],\n",
       "          [ 7.6160164 ],\n",
       "          ...,\n",
       "          [ 0.3218035 ],\n",
       "          [ 0.        ],\n",
       "          [ 8.831718  ]],\n",
       "\n",
       "         [[ 7.4014807 ],\n",
       "          [ 7.3657246 ],\n",
       "          [ 7.5802603 ],\n",
       "          ...,\n",
       "          [ 0.14302379],\n",
       "          [ 8.938987  ],\n",
       "          [ 8.617183  ]],\n",
       "\n",
       "         [[ 7.4014807 ],\n",
       "          [ 7.186945  ],\n",
       "          [ 7.4014807 ],\n",
       "          ...,\n",
       "          [ 9.08201   ],\n",
       "          [ 8.724451  ],\n",
       "          [ 8.402647  ]],\n",
       "\n",
       "         ...,\n",
       "\n",
       "         [[ 1.1441903 ],\n",
       "          [ 1.1441903 ],\n",
       "          [ 1.1799462 ],\n",
       "          ...,\n",
       "          [ 6.7578735 ],\n",
       "          [ 7.5087485 ],\n",
       "          [ 8.259624  ]],\n",
       "\n",
       "         [[ 1.1084343 ],\n",
       "          [ 1.1084343 ],\n",
       "          [ 1.1084343 ],\n",
       "          ...,\n",
       "          [ 6.2215347 ],\n",
       "          [ 6.6506057 ],\n",
       "          [ 7.115433  ]],\n",
       "\n",
       "         [[ 1.1084343 ],\n",
       "          [ 1.1084343 ],\n",
       "          [ 1.1084343 ],\n",
       "          ...,\n",
       "          [ 5.971243  ],\n",
       "          [ 6.114267  ],\n",
       "          [ 6.2215347 ]]],\n",
       "\n",
       "\n",
       "        [[[ 1.7162853 ],\n",
       "          [ 1.8235532 ],\n",
       "          [ 1.32297   ],\n",
       "          ...,\n",
       "          [ 0.7151189 ],\n",
       "          [ 0.7508749 ],\n",
       "          [ 0.7508749 ]],\n",
       "\n",
       "         [[ 1.7520413 ],\n",
       "          [ 1.8235532 ],\n",
       "          [ 1.5017498 ],\n",
       "          ...,\n",
       "          [ 0.7508749 ],\n",
       "          [ 0.7508749 ],\n",
       "          [ 0.7508749 ]],\n",
       "\n",
       "         [[ 2.002333  ],\n",
       "          [ 2.0380888 ],\n",
       "          [ 1.7162853 ],\n",
       "          ...,\n",
       "          [ 0.7151189 ],\n",
       "          [ 0.67936295],\n",
       "          [ 0.67936295]],\n",
       "\n",
       "         ...,\n",
       "\n",
       "         [[ 5.971243  ],\n",
       "          [ 6.114267  ],\n",
       "          [ 6.1857786 ],\n",
       "          ...,\n",
       "          [ 9.010498  ],\n",
       "          [ 0.03575595],\n",
       "          [ 0.10726783]],\n",
       "\n",
       "         [[ 6.0427547 ],\n",
       "          [ 6.1500225 ],\n",
       "          [ 6.471826  ],\n",
       "          ...,\n",
       "          [ 9.046254  ],\n",
       "          [ 9.117766  ],\n",
       "          [ 9.046254  ]],\n",
       "\n",
       "         [[ 6.0785108 ],\n",
       "          [ 6.1857786 ],\n",
       "          [ 6.7936296 ],\n",
       "          ...,\n",
       "          [ 8.581427  ],\n",
       "          [ 8.867475  ],\n",
       "          [ 8.867475  ]]]],\n",
       "\n",
       "\n",
       "\n",
       "       [[[[ 9.658466  ],\n",
       "          [ 9.496139  ],\n",
       "          [ 8.9685755 ],\n",
       "          ...,\n",
       "          [ 9.699048  ],\n",
       "          [ 0.4058179 ],\n",
       "          [ 1.1768719 ]],\n",
       "\n",
       "         [[10.307775  ],\n",
       "          [ 9.98312   ],\n",
       "          [ 9.577303  ],\n",
       "          ...,\n",
       "          [ 0.4463997 ],\n",
       "          [ 0.7304722 ],\n",
       "          [ 0.56814504]],\n",
       "\n",
       "         [[ 0.9333812 ],\n",
       "          [ 0.56814504],\n",
       "          [ 0.16232716],\n",
       "          ...,\n",
       "          [ 0.6493086 ],\n",
       "          [ 0.771054  ],\n",
       "          [ 0.68989044]],\n",
       "\n",
       "         ...,\n",
       "\n",
       "         [[ 1.0957084 ],\n",
       "          [ 1.0957084 ],\n",
       "          [ 1.0957084 ],\n",
       "          ...,\n",
       "          [ 0.16232716],\n",
       "          [ 0.12174537],\n",
       "          [ 0.12174537]],\n",
       "\n",
       "         [[ 1.1362901 ],\n",
       "          [ 1.1362901 ],\n",
       "          [ 1.1362901 ],\n",
       "          ...,\n",
       "          [ 0.12174537],\n",
       "          [ 0.12174537],\n",
       "          [ 0.12174537]],\n",
       "\n",
       "         [[ 1.1362901 ],\n",
       "          [ 1.1362901 ],\n",
       "          [ 1.1362901 ],\n",
       "          ...,\n",
       "          [ 0.08116358],\n",
       "          [ 0.08116358],\n",
       "          [ 0.08116358]]],\n",
       "\n",
       "\n",
       "        [[[ 9.53672   ],\n",
       "          [ 9.658466  ],\n",
       "          [ 9.171485  ],\n",
       "          ...,\n",
       "          [ 9.861375  ],\n",
       "          [ 0.5275633 ],\n",
       "          [ 1.1768719 ]],\n",
       "\n",
       "         [[ 0.04058179],\n",
       "          [10.145448  ],\n",
       "          [ 9.780211  ],\n",
       "          ...,\n",
       "          [ 0.56814504],\n",
       "          [ 0.8522176 ],\n",
       "          [ 0.771054  ]],\n",
       "\n",
       "         [[ 1.1362901 ],\n",
       "          [ 0.60872686],\n",
       "          [ 0.20290895],\n",
       "          ...,\n",
       "          [ 0.6493086 ],\n",
       "          [ 0.8927994 ],\n",
       "          [ 0.8116358 ]],\n",
       "\n",
       "         ...,\n",
       "\n",
       "         [[ 1.0551265 ],\n",
       "          [ 1.0551265 ],\n",
       "          [ 1.0551265 ],\n",
       "          ...,\n",
       "          [ 0.12174537],\n",
       "          [ 0.12174537],\n",
       "          [ 0.12174537]],\n",
       "\n",
       "         [[ 1.0551265 ],\n",
       "          [ 1.0551265 ],\n",
       "          [ 1.0551265 ],\n",
       "          ...,\n",
       "          [ 0.08116358],\n",
       "          [ 0.08116358],\n",
       "          [ 0.08116358]],\n",
       "\n",
       "         [[ 1.0551265 ],\n",
       "          [ 1.0551265 ],\n",
       "          [ 1.0551265 ],\n",
       "          ...,\n",
       "          [ 0.08116358],\n",
       "          [ 0.04058179],\n",
       "          [ 0.08116358]]],\n",
       "\n",
       "\n",
       "        [[[ 9.699048  ],\n",
       "          [ 9.699048  ],\n",
       "          [ 9.252648  ],\n",
       "          ...,\n",
       "          [ 9.699048  ],\n",
       "          [ 0.48698148],\n",
       "          [ 1.2580355 ]],\n",
       "\n",
       "         [[ 0.3652361 ],\n",
       "          [10.104866  ],\n",
       "          [ 9.658466  ],\n",
       "          ...,\n",
       "          [ 0.5275633 ],\n",
       "          [ 0.8522176 ],\n",
       "          [ 0.7304722 ]],\n",
       "\n",
       "         [[ 1.2580355 ],\n",
       "          [ 0.6493086 ],\n",
       "          [ 0.12174537],\n",
       "          ...,\n",
       "          [ 0.60872686],\n",
       "          [ 0.8116358 ],\n",
       "          [ 0.771054  ]],\n",
       "\n",
       "         ...,\n",
       "\n",
       "         [[ 1.0551265 ],\n",
       "          [ 1.0551265 ],\n",
       "          [ 1.0551265 ],\n",
       "          ...,\n",
       "          [ 0.08116358],\n",
       "          [ 0.12174537],\n",
       "          [ 0.12174537]],\n",
       "\n",
       "         [[ 1.0551265 ],\n",
       "          [ 1.0551265 ],\n",
       "          [ 1.0551265 ],\n",
       "          ...,\n",
       "          [ 0.08116358],\n",
       "          [ 0.12174537],\n",
       "          [ 0.12174537]],\n",
       "\n",
       "         [[ 1.0551265 ],\n",
       "          [ 1.0551265 ],\n",
       "          [ 1.0551265 ],\n",
       "          ...,\n",
       "          [ 0.08116358],\n",
       "          [ 0.08116358],\n",
       "          [ 0.08116358]]],\n",
       "\n",
       "\n",
       "        ...,\n",
       "\n",
       "\n",
       "        [[[ 8.684504  ],\n",
       "          [ 9.53672   ],\n",
       "          [10.186029  ],\n",
       "          ...,\n",
       "          [ 0.8116358 ],\n",
       "          [ 0.8116358 ],\n",
       "          [ 1.0145447 ]],\n",
       "\n",
       "         [[ 8.481594  ],\n",
       "          [ 8.9685755 ],\n",
       "          [ 9.73963   ],\n",
       "          ...,\n",
       "          [ 0.7304722 ],\n",
       "          [ 0.68989044],\n",
       "          [ 0.68989044]],\n",
       "\n",
       "         [[ 9.212067  ],\n",
       "          [ 8.887412  ],\n",
       "          [ 9.333812  ],\n",
       "          ...,\n",
       "          [ 0.8522176 ],\n",
       "          [ 0.8522176 ],\n",
       "          [ 0.8522176 ]],\n",
       "\n",
       "         ...,\n",
       "\n",
       "         [[ 1.1362901 ],\n",
       "          [ 1.1362901 ],\n",
       "          [ 1.1362901 ],\n",
       "          ...,\n",
       "          [ 0.08116358],\n",
       "          [ 0.08116358],\n",
       "          [ 0.12174537]],\n",
       "\n",
       "         [[ 1.0551265 ],\n",
       "          [ 1.0551265 ],\n",
       "          [ 1.0551265 ],\n",
       "          ...,\n",
       "          [ 0.08116358],\n",
       "          [ 0.08116358],\n",
       "          [ 0.08116358]],\n",
       "\n",
       "         [[ 1.0551265 ],\n",
       "          [ 1.0551265 ],\n",
       "          [ 1.0551265 ],\n",
       "          ...,\n",
       "          [ 0.04058179],\n",
       "          [ 0.04058179],\n",
       "          [ 0.08116358]]],\n",
       "\n",
       "\n",
       "        [[[ 8.197521  ],\n",
       "          [ 9.414975  ],\n",
       "          [10.226611  ],\n",
       "          ...,\n",
       "          [ 0.771054  ],\n",
       "          [ 0.8116358 ],\n",
       "          [ 0.8116358 ]],\n",
       "\n",
       "         [[ 8.238104  ],\n",
       "          [ 8.887412  ],\n",
       "          [ 9.73963   ],\n",
       "          ...,\n",
       "          [ 0.7304722 ],\n",
       "          [ 0.8116358 ],\n",
       "          [ 0.8116358 ]],\n",
       "\n",
       "         [[ 9.090321  ],\n",
       "          [ 8.765667  ],\n",
       "          [ 9.212067  ],\n",
       "          ...,\n",
       "          [ 0.8116358 ],\n",
       "          [ 0.8927994 ],\n",
       "          [ 0.9333812 ]],\n",
       "\n",
       "         ...,\n",
       "\n",
       "         [[ 1.0957084 ],\n",
       "          [ 1.0957084 ],\n",
       "          [ 1.0957084 ],\n",
       "          ...,\n",
       "          [ 0.12174537],\n",
       "          [ 0.12174537],\n",
       "          [ 0.12174537]],\n",
       "\n",
       "         [[ 1.0551265 ],\n",
       "          [ 1.0551265 ],\n",
       "          [ 1.0551265 ],\n",
       "          ...,\n",
       "          [ 0.08116358],\n",
       "          [ 0.08116358],\n",
       "          [ 0.12174537]],\n",
       "\n",
       "         [[ 1.0551265 ],\n",
       "          [ 1.0551265 ],\n",
       "          [ 1.0551265 ],\n",
       "          ...,\n",
       "          [ 0.08116358],\n",
       "          [ 0.08116358],\n",
       "          [ 0.12174537]]],\n",
       "\n",
       "\n",
       "        [[[ 8.075776  ],\n",
       "          [ 9.414975  ],\n",
       "          [10.267193  ],\n",
       "          ...,\n",
       "          [ 0.68989044],\n",
       "          [ 0.7304722 ],\n",
       "          [ 0.771054  ]],\n",
       "\n",
       "         [[ 8.197521  ],\n",
       "          [ 8.806249  ],\n",
       "          [ 9.699048  ],\n",
       "          ...,\n",
       "          [ 0.7304722 ],\n",
       "          [ 0.7304722 ],\n",
       "          [ 0.8116358 ]],\n",
       "\n",
       "         [[ 9.090321  ],\n",
       "          [ 8.725085  ],\n",
       "          [ 9.171485  ],\n",
       "          ...,\n",
       "          [ 0.8116358 ],\n",
       "          [ 0.8927994 ],\n",
       "          [ 0.8927994 ]],\n",
       "\n",
       "         ...,\n",
       "\n",
       "         [[ 1.1362901 ],\n",
       "          [ 1.1362901 ],\n",
       "          [ 1.0957084 ],\n",
       "          ...,\n",
       "          [ 0.12174537],\n",
       "          [ 0.12174537],\n",
       "          [ 0.12174537]],\n",
       "\n",
       "         [[ 1.0551265 ],\n",
       "          [ 1.0551265 ],\n",
       "          [ 1.0551265 ],\n",
       "          ...,\n",
       "          [ 0.08116358],\n",
       "          [ 0.08116358],\n",
       "          [ 0.08116358]],\n",
       "\n",
       "         [[ 1.0551265 ],\n",
       "          [ 1.0551265 ],\n",
       "          [ 1.0551265 ],\n",
       "          ...,\n",
       "          [ 0.08116358],\n",
       "          [ 0.08116358],\n",
       "          [ 0.12174537]]]]], dtype=float32)"
      ]
     },
     "execution_count": 134,
     "metadata": {},
     "output_type": "execute_result"
    }
   ],
   "source": [
    "val = sample.next(); val[0]"
   ]
  },
  {
   "cell_type": "code",
   "execution_count": 135,
   "id": "4fa6ec42",
   "metadata": {},
   "outputs": [
    {
     "data": {
      "text/plain": [
       "(75, 46, 140, 1)"
      ]
     },
     "execution_count": 135,
     "metadata": {},
     "output_type": "execute_result"
    }
   ],
   "source": [
    "val[0][0].shape "
   ]
  },
  {
   "cell_type": "code",
   "execution_count": 37,
   "id": "acf5eb4f-a0da-4a9a-bf24-af13e9cc2fbe",
   "metadata": {
    "scrolled": true,
    "tags": []
   },
   "outputs": [],
   "source": [
    "import array2gif "
   ]
  },
  {
   "cell_type": "code",
   "execution_count": 38,
   "id": "c33a87a2-d5e0-4ec9-b174-73ebf41bf03a",
   "metadata": {
    "tags": []
   },
   "outputs": [],
   "source": [
    "# 0:videos, 0: 1st video out of the batch,  0: return the first frame in the video \n",
    "#array2gif.write_gif(val[0][0][10:],\"./animation.gif\", fps = 5) "
   ]
  },
  {
   "cell_type": "code",
   "execution_count": 136,
   "id": "84593332-133c-4205-b7a6-8e235d5e2b3b",
   "metadata": {
    "tags": []
   },
   "outputs": [
    {
     "data": {
      "text/plain": [
       "<tf.Tensor: shape=(), dtype=string, numpy=b'bin blue by z eight soon'>"
      ]
     },
     "execution_count": 136,
     "metadata": {},
     "output_type": "execute_result"
    }
   ],
   "source": [
    "tf.strings.reduce_join([num_to_char(word) for word in val[1][0]])"
   ]
  },
  {
   "cell_type": "markdown",
   "id": "0f47733c-83bc-465c-b118-b198b492ad37",
   "metadata": {
    "tags": []
   },
   "source": [
    "# 3. Design the Deep Neural Network"
   ]
  },
  {
   "cell_type": "code",
   "execution_count": 46,
   "id": "d8e9a497-191b-4842-afbd-26f5e13c43ba",
   "metadata": {
    "tags": []
   },
   "outputs": [],
   "source": [
    "from tensorflow.keras.models import Sequential \n",
    "from tensorflow.keras.layers import Conv3D, LSTM, Dense, Dropout, Bidirectional, MaxPool3D, Activation, Reshape, SpatialDropout3D, BatchNormalization, TimeDistributed, Flatten\n",
    "from tensorflow.keras.optimizers import Adam\n",
    "from tensorflow.keras.callbacks import ModelCheckpoint, LearningRateScheduler, TensorBoard"
   ]
  },
  {
   "cell_type": "code",
   "execution_count": 138,
   "id": "3f753ed2-70b9-4236-8c1c-08ca065dc8bf",
   "metadata": {},
   "outputs": [
    {
     "data": {
      "text/plain": [
       "(75, 46, 140, 1)"
      ]
     },
     "execution_count": 138,
     "metadata": {},
     "output_type": "execute_result"
    }
   ],
   "source": [
    "data.as_numpy_iterator().next()[0][0].shape"
   ]
  },
  {
   "cell_type": "code",
   "execution_count": 47,
   "id": "f9171056-a352-491a-9ed9-92b28ced268e",
   "metadata": {
    "tags": []
   },
   "outputs": [],
   "source": [
    "model = Sequential()\n",
    "model.add(Conv3D(128, 3, input_shape=(75,46,140,1), padding='same'))\n",
    "model.add(Activation('relu'))\n",
    "model.add(MaxPool3D((1,2,2)))\n",
    "\n",
    "model.add(Conv3D(256, 3, padding='same'))\n",
    "model.add(Activation('relu'))\n",
    "model.add(MaxPool3D((1,2,2)))\n",
    "\n",
    "model.add(Conv3D(75, 3, padding='same'))\n",
    "model.add(Activation('relu'))\n",
    "model.add(MaxPool3D((1,2,2)))\n",
    "\n",
    "model.add(TimeDistributed(Flatten()))\n",
    "\n",
    "model.add(Bidirectional(LSTM(128, kernel_initializer='Orthogonal', return_sequences=True)))\n",
    "model.add(Dropout(.5))\n",
    "\n",
    "model.add(Bidirectional(LSTM(128, kernel_initializer='Orthogonal', return_sequences=True)))\n",
    "model.add(Dropout(.5))\n",
    "\n",
    "model.add(Dense(char_to_num.vocabulary_size()+1, kernel_initializer='he_normal', activation='softmax'))"
   ]
  },
  {
   "cell_type": "code",
   "execution_count": 48,
   "id": "78851825-2bcd-42a9-b7f2-28bb5a6bf43a",
   "metadata": {
    "jupyter": {
     "outputs_hidden": true
    },
    "tags": []
   },
   "outputs": [
    {
     "name": "stdout",
     "output_type": "stream",
     "text": [
      "Model: \"sequential\"\n",
      "_________________________________________________________________\n",
      " Layer (type)                Output Shape              Param #   \n",
      "=================================================================\n",
      " conv3d (Conv3D)             (None, 75, 46, 140, 128)  3584      \n",
      "                                                                 \n",
      " activation (Activation)     (None, 75, 46, 140, 128)  0         \n",
      "                                                                 \n",
      " max_pooling3d (MaxPooling3D  (None, 75, 23, 70, 128)  0         \n",
      " )                                                               \n",
      "                                                                 \n",
      " conv3d_1 (Conv3D)           (None, 75, 23, 70, 256)   884992    \n",
      "                                                                 \n",
      " activation_1 (Activation)   (None, 75, 23, 70, 256)   0         \n",
      "                                                                 \n",
      " max_pooling3d_1 (MaxPooling  (None, 75, 11, 35, 256)  0         \n",
      " 3D)                                                             \n",
      "                                                                 \n",
      " conv3d_2 (Conv3D)           (None, 75, 11, 35, 75)    518475    \n",
      "                                                                 \n",
      " activation_2 (Activation)   (None, 75, 11, 35, 75)    0         \n",
      "                                                                 \n",
      " max_pooling3d_2 (MaxPooling  (None, 75, 5, 17, 75)    0         \n",
      " 3D)                                                             \n",
      "                                                                 \n",
      " time_distributed (TimeDistr  (None, 75, 6375)         0         \n",
      " ibuted)                                                         \n",
      "                                                                 \n",
      " bidirectional (Bidirectiona  (None, 75, 256)          6660096   \n",
      " l)                                                              \n",
      "                                                                 \n",
      " dropout (Dropout)           (None, 75, 256)           0         \n",
      "                                                                 \n",
      " bidirectional_1 (Bidirectio  (None, 75, 256)          394240    \n",
      " nal)                                                            \n",
      "                                                                 \n",
      " dropout_1 (Dropout)         (None, 75, 256)           0         \n",
      "                                                                 \n",
      " dense (Dense)               (None, 75, 41)            10537     \n",
      "                                                                 \n",
      "=================================================================\n",
      "Total params: 8,471,924\n",
      "Trainable params: 8,471,924\n",
      "Non-trainable params: 0\n",
      "_________________________________________________________________\n"
     ]
    }
   ],
   "source": [
    "model.summary()"
   ]
  },
  {
   "cell_type": "code",
   "execution_count": 49,
   "id": "f4b4798c-a65a-4c47-9e2a-3b09dc98d320",
   "metadata": {},
   "outputs": [
    {
     "data": {
      "text/plain": [
       "6375"
      ]
     },
     "execution_count": 49,
     "metadata": {},
     "output_type": "execute_result"
    }
   ],
   "source": [
    "5*17*75"
   ]
  },
  {
   "cell_type": "code",
   "execution_count": 50,
   "id": "dd6f3e9e",
   "metadata": {
    "scrolled": true
   },
   "outputs": [
    {
     "data": {
      "text/plain": [
       "<tensorflow.python.checkpoint.checkpoint.CheckpointLoadStatus at 0x1d8568cb880>"
      ]
     },
     "execution_count": 50,
     "metadata": {},
     "output_type": "execute_result"
    }
   ],
   "source": [
    "model.load_weights(\"improve_model/checkpoint\")  "
   ]
  },
  {
   "cell_type": "code",
   "execution_count": 51,
   "id": "21d6ee4c",
   "metadata": {},
   "outputs": [],
   "source": [
    "frames, alignments = data.as_numpy_iterator().next() "
   ]
  },
  {
   "cell_type": "code",
   "execution_count": 52,
   "id": "8fc16fd0",
   "metadata": {},
   "outputs": [
    {
     "data": {
      "text/plain": [
       "(2, 75, 46, 140, 1)"
      ]
     },
     "execution_count": 52,
     "metadata": {},
     "output_type": "execute_result"
    }
   ],
   "source": [
    "frames.shape "
   ]
  },
  {
   "cell_type": "code",
   "execution_count": 53,
   "id": "be70750c",
   "metadata": {},
   "outputs": [
    {
     "data": {
      "text/plain": [
       "<matplotlib.image.AxesImage at 0x1d867e18100>"
      ]
     },
     "execution_count": 53,
     "metadata": {},
     "output_type": "execute_result"
    },
    {
     "data": {
      "image/png": "[encoded data removed]",
      "text/plain": [
       "<Figure size 640x480 with 1 Axes>"
      ]
     },
     "metadata": {},
     "output_type": "display_data"
    }
   ],
   "source": [
    "plt.imshow(frames[0][10]) "
   ]
  },
  {
   "cell_type": "code",
   "execution_count": 57,
   "id": "f2262638",
   "metadata": {},
   "outputs": [
    {
     "data": {
      "text/plain": [
       "(2, 75, 46, 140, 1)"
      ]
     },
     "execution_count": 57,
     "metadata": {},
     "output_type": "execute_result"
    }
   ],
   "source": [
    "frames.shape "
   ]
  },
  {
   "cell_type": "code",
   "execution_count": 58,
   "id": "e5c2eae0-c359-41a4-97a0-75c44dccb7d1",
   "metadata": {
    "tags": []
   },
   "outputs": [
    {
     "name": "stdout",
     "output_type": "stream",
     "text": [
      "1/1 [==============================] - 5s 5s/step\n"
     ]
    }
   ],
   "source": [
    "yhat = model.predict(frames)  "
   ]
  },
  {
   "cell_type": "code",
   "execution_count": 60,
   "id": "9c6057bf",
   "metadata": {},
   "outputs": [
    {
     "data": {
      "text/plain": [
       "numpy.ndarray"
      ]
     },
     "execution_count": 60,
     "metadata": {},
     "output_type": "execute_result"
    }
   ],
   "source": [
    "type(yhat) "
   ]
  },
  {
   "cell_type": "code",
   "execution_count": 61,
   "id": "e2e634da",
   "metadata": {},
   "outputs": [
    {
     "data": {
      "text/plain": [
       "(2, 75, 41)"
      ]
     },
     "execution_count": 61,
     "metadata": {},
     "output_type": "execute_result"
    }
   ],
   "source": [
    "yhat.shape "
   ]
  },
  {
   "cell_type": "code",
   "execution_count": null,
   "id": "8f18cedb",
   "metadata": {},
   "outputs": [],
   "source": [
    "yhat[0][0] "
   ]
  },
  {
   "cell_type": "code",
   "execution_count": 147,
   "id": "ffdc7319-0d69-4f7e-a6d4-ce72deb81c0b",
   "metadata": {},
   "outputs": [
    {
     "data": {
      "text/plain": [
       "<tf.Tensor: shape=(), dtype=string, numpy=b'set   blue   by   u   tine   ppleeasee'>"
      ]
     },
     "execution_count": 147,
     "metadata": {},
     "output_type": "execute_result"
    }
   ],
   "source": [
    "tf.strings.reduce_join([num_to_char(x) for x in tf.argmax(yhat[0],axis=1)])"
   ]
  },
  {
   "cell_type": "code",
   "execution_count": 148,
   "id": "cf431e0b",
   "metadata": {},
   "outputs": [
    {
     "data": {
      "text/plain": [
       "<tf.Tensor: shape=(), dtype=string, numpy=b'set sp blue by a nine please'>"
      ]
     },
     "execution_count": 148,
     "metadata": {},
     "output_type": "execute_result"
    }
   ],
   "source": [
    "tf.strings.reduce_join(num_to_char(alignments[0]))    "
   ]
  },
  {
   "cell_type": "code",
   "execution_count": 149,
   "id": "6ed47531-8317-4255-9a12-b757642258e6",
   "metadata": {
    "tags": []
   },
   "outputs": [
    {
     "data": {
      "text/plain": [
       "<tf.Tensor: shape=(), dtype=string, numpy=b'cc'>"
      ]
     },
     "execution_count": 149,
     "metadata": {},
     "output_type": "execute_result"
    }
   ],
   "source": [
    "tf.strings.reduce_join([num_to_char(tf.argmax(x)) for x in alignments])"
   ]
  },
  {
   "cell_type": "code",
   "execution_count": 150,
   "id": "7c37b9b9-5298-4038-9c33-5031d1b457f0",
   "metadata": {
    "tags": []
   },
   "outputs": [
    {
     "data": {
      "text/plain": [
       "(None, 75, 46, 140, 1)"
      ]
     },
     "execution_count": 150,
     "metadata": {},
     "output_type": "execute_result"
    }
   ],
   "source": [
    "model.input_shape"
   ]
  },
  {
   "cell_type": "code",
   "execution_count": 151,
   "id": "98b316a4-5322-4782-8e36-4b3c1a696d85",
   "metadata": {
    "tags": []
   },
   "outputs": [
    {
     "data": {
      "text/plain": [
       "(None, 75, 41)"
      ]
     },
     "execution_count": 151,
     "metadata": {},
     "output_type": "execute_result"
    }
   ],
   "source": [
    "model.output_shape"
   ]
  },
  {
   "cell_type": "markdown",
   "id": "2ec02176-5c26-46c3-aff7-8352e6563c7d",
   "metadata": {
    "tags": []
   },
   "source": [
    "# 4. Setup Training Options and Train"
   ]
  },
  {
   "cell_type": "code",
   "execution_count": 152,
   "id": "ab015fd0-7fb4-4d5d-9fa2-30a05dbd515a",
   "metadata": {
    "tags": []
   },
   "outputs": [],
   "source": [
    "def scheduler(epoch, lr):\n",
    "    if epoch < 30:\n",
    "        return lr\n",
    "    else:\n",
    "        return lr * tf.math.exp(-0.1)"
   ]
  },
  {
   "cell_type": "code",
   "execution_count": 153,
   "id": "c564d5c9-db54-4e88-b311-9aeab7fb3e69",
   "metadata": {
    "tags": []
   },
   "outputs": [],
   "source": [
    "def CTCLoss(y_true, y_pred):\n",
    "    batch_len = tf.cast(tf.shape(y_true)[0], dtype=\"int64\")\n",
    "    input_length = tf.cast(tf.shape(y_pred)[1], dtype=\"int64\")\n",
    "    label_length = tf.cast(tf.shape(y_true)[1], dtype=\"int64\")\n",
    "\n",
    "    input_length = input_length * tf.ones(shape=(batch_len, 1), dtype=\"int64\")\n",
    "    label_length = label_length * tf.ones(shape=(batch_len, 1), dtype=\"int64\")\n",
    "\n",
    "    loss = tf.keras.backend.ctc_batch_cost(y_true, y_pred, input_length, label_length)\n",
    "    return loss"
   ]
  },
  {
   "cell_type": "code",
   "execution_count": 154,
   "id": "a26dc3fc-a19c-4378-bd8c-e2b597a1d15c",
   "metadata": {
    "tags": []
   },
   "outputs": [],
   "source": [
    "class ProduceExample(tf.keras.callbacks.Callback): \n",
    "    def __init__(self, dataset) -> None: \n",
    "        self.dataset = dataset.as_numpy_iterator()\n",
    "    \n",
    "    def on_epoch_end(self, epoch, logs=None) -> None:\n",
    "        data = self.dataset.next()\n",
    "        yhat = self.model.predict(data[0])\n",
    "        decoded = tf.keras.backend.ctc_decode(yhat, [75,75], greedy=False)[0][0].numpy()\n",
    "        for x in range(len(yhat)):           \n",
    "            print('Original:', tf.strings.reduce_join(num_to_char(data[1][x])).numpy().decode('utf-8'))\n",
    "            print('Prediction:', tf.strings.reduce_join(num_to_char(decoded[x])).numpy().decode('utf-8'))\n",
    "            print('~'*100)"
   ]
  },
  {
   "cell_type": "code",
   "execution_count": 155,
   "id": "04be90d8-2482-46f9-b513-d5f4f8001c7e",
   "metadata": {
    "tags": []
   },
   "outputs": [],
   "source": [
    "model.compile(optimizer=Adam(learning_rate=0.0001), loss=CTCLoss)   # initial learning rate 0.0001  "
   ]
  },
  {
   "cell_type": "code",
   "execution_count": 156,
   "id": "eab49367-3f1e-4464-ae76-dbd07549d97e",
   "metadata": {
    "tags": []
   },
   "outputs": [],
   "source": [
    "checkpoint_callback = ModelCheckpoint(os.path.join('new_try_model','checkpoint'), monitor='loss', save_weights_only=True) "
   ]
  },
  {
   "cell_type": "code",
   "execution_count": 157,
   "id": "e085a632-d464-46ef-8777-959cad4adb2c",
   "metadata": {
    "tags": []
   },
   "outputs": [],
   "source": [
    "schedule_callback = LearningRateScheduler(scheduler)"
   ]
  },
  {
   "cell_type": "code",
   "execution_count": 158,
   "id": "48eca991-90ab-4592-8a79-b50e9ca015b6",
   "metadata": {
    "tags": []
   },
   "outputs": [],
   "source": [
    "example_callback = ProduceExample(test)"
   ]
  },
  {
   "cell_type": "code",
   "execution_count": null,
   "id": "903455e2",
   "metadata": {},
   "outputs": [],
   "source": [
    "tensorboard_callback = TensorBoard(log_dir = \"./logs\", histogram_freq = 1)  "
   ]
  },
  {
   "cell_type": "code",
   "execution_count": 159,
   "id": "60f33301",
   "metadata": {
    "scrolled": false,
    "tags": []
   },
   "outputs": [
    {
     "name": "stdout",
     "output_type": "stream",
     "text": [
      "Epoch 1/100\n",
      "1/1 [==============================] - 1s 1s/steps - loss: 23.54\n",
      "Original: set green by v seven now\n",
      "Prediction: set red by p seve now\n",
      "~~~~~~~~~~~~~~~~~~~~~~~~~~~~~~~~~~~~~~~~~~~~~~~~~~~~~~~~~~~~~~~~~~~~~~~~~~~~~~~~~~~~~~~~~~~~~~~~~~~~\n",
      "Original: place green by q nine now\n",
      "Prediction: place red it c fero nown\n",
      "~~~~~~~~~~~~~~~~~~~~~~~~~~~~~~~~~~~~~~~~~~~~~~~~~~~~~~~~~~~~~~~~~~~~~~~~~~~~~~~~~~~~~~~~~~~~~~~~~~~~\n",
      "450/450 [==============================] - 4368s 10s/step - loss: 23.5478 - val_loss: 17.7920 - lr: 1.0000e-04\n",
      "Epoch 2/100\n",
      "1/1 [==============================] - 0s 446ms/step loss: 21.62\n",
      "Original: bin blue by s three now\n",
      "Prediction: bin blue wiy o zire now\n",
      "~~~~~~~~~~~~~~~~~~~~~~~~~~~~~~~~~~~~~~~~~~~~~~~~~~~~~~~~~~~~~~~~~~~~~~~~~~~~~~~~~~~~~~~~~~~~~~~~~~~~\n",
      "Original: lay red in k four again\n",
      "Prediction: lay gren it q five again\n",
      "~~~~~~~~~~~~~~~~~~~~~~~~~~~~~~~~~~~~~~~~~~~~~~~~~~~~~~~~~~~~~~~~~~~~~~~~~~~~~~~~~~~~~~~~~~~~~~~~~~~~\n",
      "450/450 [==============================] - 3002s 7s/step - loss: 21.6287 - val_loss: 16.9551 - lr: 1.0000e-04\n",
      "Epoch 3/100\n",
      "1/1 [==============================] - 0s 490ms/step loss: 20.78\n",
      "Original: bin green with o four please\n",
      "Prediction: bin ren in o fou please\n",
      "~~~~~~~~~~~~~~~~~~~~~~~~~~~~~~~~~~~~~~~~~~~~~~~~~~~~~~~~~~~~~~~~~~~~~~~~~~~~~~~~~~~~~~~~~~~~~~~~~~~~\n",
      "Original: place white by k zero soon\n",
      "Prediction: place white by y seve son\n",
      "~~~~~~~~~~~~~~~~~~~~~~~~~~~~~~~~~~~~~~~~~~~~~~~~~~~~~~~~~~~~~~~~~~~~~~~~~~~~~~~~~~~~~~~~~~~~~~~~~~~~\n",
      "450/450 [==============================] - 2969s 7s/step - loss: 20.7877 - val_loss: 15.7089 - lr: 1.0000e-04\n",
      "Epoch 4/100\n",
      "1/1 [==============================] - 1s 510ms/step loss: 18.60\n",
      "Original: place red in i eight please\n",
      "Prediction: place red in a eight please\n",
      "~~~~~~~~~~~~~~~~~~~~~~~~~~~~~~~~~~~~~~~~~~~~~~~~~~~~~~~~~~~~~~~~~~~~~~~~~~~~~~~~~~~~~~~~~~~~~~~~~~~~\n",
      "Original: place blue with p six soon\n",
      "Prediction: place blue it x six son\n",
      "~~~~~~~~~~~~~~~~~~~~~~~~~~~~~~~~~~~~~~~~~~~~~~~~~~~~~~~~~~~~~~~~~~~~~~~~~~~~~~~~~~~~~~~~~~~~~~~~~~~~\n",
      "450/450 [==============================] - 8719s 19s/step - loss: 18.6057 - val_loss: 14.9694 - lr: 1.0000e-04\n",
      "Epoch 5/100\n",
      "1/1 [==============================] - 0s 434ms/step loss: 17.88\n",
      "Original: place blue by c five soon\n",
      "Prediction: place blue by c sive son\n",
      "~~~~~~~~~~~~~~~~~~~~~~~~~~~~~~~~~~~~~~~~~~~~~~~~~~~~~~~~~~~~~~~~~~~~~~~~~~~~~~~~~~~~~~~~~~~~~~~~~~~~\n",
      "Original: place green at q eight again\n",
      "Prediction: place ren at d eigh again\n",
      "~~~~~~~~~~~~~~~~~~~~~~~~~~~~~~~~~~~~~~~~~~~~~~~~~~~~~~~~~~~~~~~~~~~~~~~~~~~~~~~~~~~~~~~~~~~~~~~~~~~~\n",
      "450/450 [==============================] - 2976s 7s/step - loss: 17.8859 - val_loss: 13.0168 - lr: 1.0000e-04\n",
      "Epoch 6/100\n",
      "1/1 [==============================] - 1s 519ms/step loss: 16.51\n",
      "Original: bin white in m six again\n",
      "Prediction: bin white bn s sivx again\n",
      "~~~~~~~~~~~~~~~~~~~~~~~~~~~~~~~~~~~~~~~~~~~~~~~~~~~~~~~~~~~~~~~~~~~~~~~~~~~~~~~~~~~~~~~~~~~~~~~~~~~~\n",
      "Original: place green by k nine again\n",
      "Prediction: place gren by y nine again\n",
      "~~~~~~~~~~~~~~~~~~~~~~~~~~~~~~~~~~~~~~~~~~~~~~~~~~~~~~~~~~~~~~~~~~~~~~~~~~~~~~~~~~~~~~~~~~~~~~~~~~~~\n",
      "450/450 [==============================] - 2972s 7s/step - loss: 16.5160 - val_loss: 12.5861 - lr: 1.0000e-04\n",
      "Epoch 7/100\n",
      "1/1 [==============================] - 0s 388ms/step loss: 15.38\n",
      "Original: place red by d two please\n",
      "Prediction: place red by two please\n",
      "~~~~~~~~~~~~~~~~~~~~~~~~~~~~~~~~~~~~~~~~~~~~~~~~~~~~~~~~~~~~~~~~~~~~~~~~~~~~~~~~~~~~~~~~~~~~~~~~~~~~\n",
      "Original: lay white by f two soon\n",
      "Prediction: lay white by y tiro son\n",
      "~~~~~~~~~~~~~~~~~~~~~~~~~~~~~~~~~~~~~~~~~~~~~~~~~~~~~~~~~~~~~~~~~~~~~~~~~~~~~~~~~~~~~~~~~~~~~~~~~~~~\n",
      "450/450 [==============================] - 2944s 7s/step - loss: 15.3896 - val_loss: 12.6783 - lr: 1.0000e-04\n",
      "Epoch 8/100\n",
      "141/450 [========>.....................] - ETA: 16:07 - loss: 15.8294"
     ]
    },
    {
     "ename": "KeyboardInterrupt",
     "evalue": "",
     "output_type": "error",
     "traceback": [
      "\u001b[1;31m---------------------------------------------------------------------------\u001b[0m",
      "\u001b[1;31mKeyboardInterrupt\u001b[0m                         Traceback (most recent call last)",
      "Cell \u001b[1;32mIn[159], line 1\u001b[0m\n\u001b[1;32m----> 1\u001b[0m \u001b[43mmodel\u001b[49m\u001b[38;5;241;43m.\u001b[39;49m\u001b[43mfit\u001b[49m\u001b[43m(\u001b[49m\u001b[43mtrain\u001b[49m\u001b[43m,\u001b[49m\u001b[43m \u001b[49m\u001b[43mvalidation_data\u001b[49m\u001b[38;5;241;43m=\u001b[39;49m\u001b[43mtest\u001b[49m\u001b[43m,\u001b[49m\u001b[43m \u001b[49m\u001b[43mepochs\u001b[49m\u001b[38;5;241;43m=\u001b[39;49m\u001b[38;5;241;43m100\u001b[39;49m\u001b[43m,\u001b[49m\u001b[43m \u001b[49m\u001b[43mcallbacks\u001b[49m\u001b[38;5;241;43m=\u001b[39;49m\u001b[43m[\u001b[49m\u001b[43mcheckpoint_callback\u001b[49m\u001b[43m,\u001b[49m\u001b[43m \u001b[49m\u001b[43mschedule_callback\u001b[49m\u001b[43m,\u001b[49m\u001b[43m \u001b[49m\u001b[43mexample_callback\u001b[49m\u001b[43m]\u001b[49m\u001b[43m)\u001b[49m \n",
      "File \u001b[1;32m~\\.conda\\envs\\alphaAxon\\lib\\site-packages\\keras\\utils\\traceback_utils.py:65\u001b[0m, in \u001b[0;36mfilter_traceback.<locals>.error_handler\u001b[1;34m(*args, **kwargs)\u001b[0m\n\u001b[0;32m     63\u001b[0m filtered_tb \u001b[38;5;241m=\u001b[39m \u001b[38;5;28;01mNone\u001b[39;00m\n\u001b[0;32m     64\u001b[0m \u001b[38;5;28;01mtry\u001b[39;00m:\n\u001b[1;32m---> 65\u001b[0m     \u001b[38;5;28;01mreturn\u001b[39;00m fn(\u001b[38;5;241m*\u001b[39margs, \u001b[38;5;241m*\u001b[39m\u001b[38;5;241m*\u001b[39mkwargs)\n\u001b[0;32m     66\u001b[0m \u001b[38;5;28;01mexcept\u001b[39;00m \u001b[38;5;167;01mException\u001b[39;00m \u001b[38;5;28;01mas\u001b[39;00m e:\n\u001b[0;32m     67\u001b[0m     filtered_tb \u001b[38;5;241m=\u001b[39m _process_traceback_frames(e\u001b[38;5;241m.\u001b[39m__traceback__)\n",
      "File \u001b[1;32m~\\.conda\\envs\\alphaAxon\\lib\\site-packages\\keras\\engine\\training.py:1564\u001b[0m, in \u001b[0;36mModel.fit\u001b[1;34m(self, x, y, batch_size, epochs, verbose, callbacks, validation_split, validation_data, shuffle, class_weight, sample_weight, initial_epoch, steps_per_epoch, validation_steps, validation_batch_size, validation_freq, max_queue_size, workers, use_multiprocessing)\u001b[0m\n\u001b[0;32m   1556\u001b[0m \u001b[38;5;28;01mwith\u001b[39;00m tf\u001b[38;5;241m.\u001b[39mprofiler\u001b[38;5;241m.\u001b[39mexperimental\u001b[38;5;241m.\u001b[39mTrace(\n\u001b[0;32m   1557\u001b[0m     \u001b[38;5;124m\"\u001b[39m\u001b[38;5;124mtrain\u001b[39m\u001b[38;5;124m\"\u001b[39m,\n\u001b[0;32m   1558\u001b[0m     epoch_num\u001b[38;5;241m=\u001b[39mepoch,\n\u001b[1;32m   (...)\u001b[0m\n\u001b[0;32m   1561\u001b[0m     _r\u001b[38;5;241m=\u001b[39m\u001b[38;5;241m1\u001b[39m,\n\u001b[0;32m   1562\u001b[0m ):\n\u001b[0;32m   1563\u001b[0m     callbacks\u001b[38;5;241m.\u001b[39mon_train_batch_begin(step)\n\u001b[1;32m-> 1564\u001b[0m     tmp_logs \u001b[38;5;241m=\u001b[39m \u001b[38;5;28;43mself\u001b[39;49m\u001b[38;5;241;43m.\u001b[39;49m\u001b[43mtrain_function\u001b[49m\u001b[43m(\u001b[49m\u001b[43miterator\u001b[49m\u001b[43m)\u001b[49m\n\u001b[0;32m   1565\u001b[0m     \u001b[38;5;28;01mif\u001b[39;00m data_handler\u001b[38;5;241m.\u001b[39mshould_sync:\n\u001b[0;32m   1566\u001b[0m         context\u001b[38;5;241m.\u001b[39masync_wait()\n",
      "File \u001b[1;32m~\\.conda\\envs\\alphaAxon\\lib\\site-packages\\tensorflow\\python\\util\\traceback_utils.py:150\u001b[0m, in \u001b[0;36mfilter_traceback.<locals>.error_handler\u001b[1;34m(*args, **kwargs)\u001b[0m\n\u001b[0;32m    148\u001b[0m filtered_tb \u001b[38;5;241m=\u001b[39m \u001b[38;5;28;01mNone\u001b[39;00m\n\u001b[0;32m    149\u001b[0m \u001b[38;5;28;01mtry\u001b[39;00m:\n\u001b[1;32m--> 150\u001b[0m   \u001b[38;5;28;01mreturn\u001b[39;00m fn(\u001b[38;5;241m*\u001b[39margs, \u001b[38;5;241m*\u001b[39m\u001b[38;5;241m*\u001b[39mkwargs)\n\u001b[0;32m    151\u001b[0m \u001b[38;5;28;01mexcept\u001b[39;00m \u001b[38;5;167;01mException\u001b[39;00m \u001b[38;5;28;01mas\u001b[39;00m e:\n\u001b[0;32m    152\u001b[0m   filtered_tb \u001b[38;5;241m=\u001b[39m _process_traceback_frames(e\u001b[38;5;241m.\u001b[39m__traceback__)\n",
      "File \u001b[1;32m~\\.conda\\envs\\alphaAxon\\lib\\site-packages\\tensorflow\\python\\eager\\def_function.py:915\u001b[0m, in \u001b[0;36mFunction.__call__\u001b[1;34m(self, *args, **kwds)\u001b[0m\n\u001b[0;32m    912\u001b[0m compiler \u001b[38;5;241m=\u001b[39m \u001b[38;5;124m\"\u001b[39m\u001b[38;5;124mxla\u001b[39m\u001b[38;5;124m\"\u001b[39m \u001b[38;5;28;01mif\u001b[39;00m \u001b[38;5;28mself\u001b[39m\u001b[38;5;241m.\u001b[39m_jit_compile \u001b[38;5;28;01melse\u001b[39;00m \u001b[38;5;124m\"\u001b[39m\u001b[38;5;124mnonXla\u001b[39m\u001b[38;5;124m\"\u001b[39m\n\u001b[0;32m    914\u001b[0m \u001b[38;5;28;01mwith\u001b[39;00m OptionalXlaContext(\u001b[38;5;28mself\u001b[39m\u001b[38;5;241m.\u001b[39m_jit_compile):\n\u001b[1;32m--> 915\u001b[0m   result \u001b[38;5;241m=\u001b[39m \u001b[38;5;28mself\u001b[39m\u001b[38;5;241m.\u001b[39m_call(\u001b[38;5;241m*\u001b[39margs, \u001b[38;5;241m*\u001b[39m\u001b[38;5;241m*\u001b[39mkwds)\n\u001b[0;32m    917\u001b[0m new_tracing_count \u001b[38;5;241m=\u001b[39m \u001b[38;5;28mself\u001b[39m\u001b[38;5;241m.\u001b[39mexperimental_get_tracing_count()\n\u001b[0;32m    918\u001b[0m without_tracing \u001b[38;5;241m=\u001b[39m (tracing_count \u001b[38;5;241m==\u001b[39m new_tracing_count)\n",
      "File \u001b[1;32m~\\.conda\\envs\\alphaAxon\\lib\\site-packages\\tensorflow\\python\\eager\\def_function.py:947\u001b[0m, in \u001b[0;36mFunction._call\u001b[1;34m(self, *args, **kwds)\u001b[0m\n\u001b[0;32m    944\u001b[0m   \u001b[38;5;28mself\u001b[39m\u001b[38;5;241m.\u001b[39m_lock\u001b[38;5;241m.\u001b[39mrelease()\n\u001b[0;32m    945\u001b[0m   \u001b[38;5;66;03m# In this case we have created variables on the first call, so we run the\u001b[39;00m\n\u001b[0;32m    946\u001b[0m   \u001b[38;5;66;03m# defunned version which is guaranteed to never create variables.\u001b[39;00m\n\u001b[1;32m--> 947\u001b[0m   \u001b[38;5;28;01mreturn\u001b[39;00m \u001b[38;5;28mself\u001b[39m\u001b[38;5;241m.\u001b[39m_stateless_fn(\u001b[38;5;241m*\u001b[39margs, \u001b[38;5;241m*\u001b[39m\u001b[38;5;241m*\u001b[39mkwds)  \u001b[38;5;66;03m# pylint: disable=not-callable\u001b[39;00m\n\u001b[0;32m    948\u001b[0m \u001b[38;5;28;01melif\u001b[39;00m \u001b[38;5;28mself\u001b[39m\u001b[38;5;241m.\u001b[39m_stateful_fn \u001b[38;5;129;01mis\u001b[39;00m \u001b[38;5;129;01mnot\u001b[39;00m \u001b[38;5;28;01mNone\u001b[39;00m:\n\u001b[0;32m    949\u001b[0m   \u001b[38;5;66;03m# Release the lock early so that multiple threads can perform the call\u001b[39;00m\n\u001b[0;32m    950\u001b[0m   \u001b[38;5;66;03m# in parallel.\u001b[39;00m\n\u001b[0;32m    951\u001b[0m   \u001b[38;5;28mself\u001b[39m\u001b[38;5;241m.\u001b[39m_lock\u001b[38;5;241m.\u001b[39mrelease()\n",
      "File \u001b[1;32m~\\.conda\\envs\\alphaAxon\\lib\\site-packages\\tensorflow\\python\\eager\\function.py:2496\u001b[0m, in \u001b[0;36mFunction.__call__\u001b[1;34m(self, *args, **kwargs)\u001b[0m\n\u001b[0;32m   2493\u001b[0m \u001b[38;5;28;01mwith\u001b[39;00m \u001b[38;5;28mself\u001b[39m\u001b[38;5;241m.\u001b[39m_lock:\n\u001b[0;32m   2494\u001b[0m   (graph_function,\n\u001b[0;32m   2495\u001b[0m    filtered_flat_args) \u001b[38;5;241m=\u001b[39m \u001b[38;5;28mself\u001b[39m\u001b[38;5;241m.\u001b[39m_maybe_define_function(args, kwargs)\n\u001b[1;32m-> 2496\u001b[0m \u001b[38;5;28;01mreturn\u001b[39;00m \u001b[43mgraph_function\u001b[49m\u001b[38;5;241;43m.\u001b[39;49m\u001b[43m_call_flat\u001b[49m\u001b[43m(\u001b[49m\n\u001b[0;32m   2497\u001b[0m \u001b[43m    \u001b[49m\u001b[43mfiltered_flat_args\u001b[49m\u001b[43m,\u001b[49m\u001b[43m \u001b[49m\u001b[43mcaptured_inputs\u001b[49m\u001b[38;5;241;43m=\u001b[39;49m\u001b[43mgraph_function\u001b[49m\u001b[38;5;241;43m.\u001b[39;49m\u001b[43mcaptured_inputs\u001b[49m\u001b[43m)\u001b[49m\n",
      "File \u001b[1;32m~\\.conda\\envs\\alphaAxon\\lib\\site-packages\\tensorflow\\python\\eager\\function.py:1862\u001b[0m, in \u001b[0;36mConcreteFunction._call_flat\u001b[1;34m(self, args, captured_inputs, cancellation_manager)\u001b[0m\n\u001b[0;32m   1858\u001b[0m possible_gradient_type \u001b[38;5;241m=\u001b[39m gradients_util\u001b[38;5;241m.\u001b[39mPossibleTapeGradientTypes(args)\n\u001b[0;32m   1859\u001b[0m \u001b[38;5;28;01mif\u001b[39;00m (possible_gradient_type \u001b[38;5;241m==\u001b[39m gradients_util\u001b[38;5;241m.\u001b[39mPOSSIBLE_GRADIENT_TYPES_NONE\n\u001b[0;32m   1860\u001b[0m     \u001b[38;5;129;01mand\u001b[39;00m executing_eagerly):\n\u001b[0;32m   1861\u001b[0m   \u001b[38;5;66;03m# No tape is watching; skip to running the function.\u001b[39;00m\n\u001b[1;32m-> 1862\u001b[0m   \u001b[38;5;28;01mreturn\u001b[39;00m \u001b[38;5;28mself\u001b[39m\u001b[38;5;241m.\u001b[39m_build_call_outputs(\u001b[38;5;28;43mself\u001b[39;49m\u001b[38;5;241;43m.\u001b[39;49m\u001b[43m_inference_function\u001b[49m\u001b[38;5;241;43m.\u001b[39;49m\u001b[43mcall\u001b[49m\u001b[43m(\u001b[49m\n\u001b[0;32m   1863\u001b[0m \u001b[43m      \u001b[49m\u001b[43mctx\u001b[49m\u001b[43m,\u001b[49m\u001b[43m \u001b[49m\u001b[43margs\u001b[49m\u001b[43m,\u001b[49m\u001b[43m \u001b[49m\u001b[43mcancellation_manager\u001b[49m\u001b[38;5;241;43m=\u001b[39;49m\u001b[43mcancellation_manager\u001b[49m\u001b[43m)\u001b[49m)\n\u001b[0;32m   1864\u001b[0m forward_backward \u001b[38;5;241m=\u001b[39m \u001b[38;5;28mself\u001b[39m\u001b[38;5;241m.\u001b[39m_select_forward_and_backward_functions(\n\u001b[0;32m   1865\u001b[0m     args,\n\u001b[0;32m   1866\u001b[0m     possible_gradient_type,\n\u001b[0;32m   1867\u001b[0m     executing_eagerly)\n\u001b[0;32m   1868\u001b[0m forward_function, args_with_tangents \u001b[38;5;241m=\u001b[39m forward_backward\u001b[38;5;241m.\u001b[39mforward()\n",
      "File \u001b[1;32m~\\.conda\\envs\\alphaAxon\\lib\\site-packages\\tensorflow\\python\\eager\\function.py:499\u001b[0m, in \u001b[0;36m_EagerDefinedFunction.call\u001b[1;34m(self, ctx, args, cancellation_manager)\u001b[0m\n\u001b[0;32m    497\u001b[0m \u001b[38;5;28;01mwith\u001b[39;00m _InterpolateFunctionError(\u001b[38;5;28mself\u001b[39m):\n\u001b[0;32m    498\u001b[0m   \u001b[38;5;28;01mif\u001b[39;00m cancellation_manager \u001b[38;5;129;01mis\u001b[39;00m \u001b[38;5;28;01mNone\u001b[39;00m:\n\u001b[1;32m--> 499\u001b[0m     outputs \u001b[38;5;241m=\u001b[39m \u001b[43mexecute\u001b[49m\u001b[38;5;241;43m.\u001b[39;49m\u001b[43mexecute\u001b[49m\u001b[43m(\u001b[49m\n\u001b[0;32m    500\u001b[0m \u001b[43m        \u001b[49m\u001b[38;5;28;43mstr\u001b[39;49m\u001b[43m(\u001b[49m\u001b[38;5;28;43mself\u001b[39;49m\u001b[38;5;241;43m.\u001b[39;49m\u001b[43msignature\u001b[49m\u001b[38;5;241;43m.\u001b[39;49m\u001b[43mname\u001b[49m\u001b[43m)\u001b[49m\u001b[43m,\u001b[49m\n\u001b[0;32m    501\u001b[0m \u001b[43m        \u001b[49m\u001b[43mnum_outputs\u001b[49m\u001b[38;5;241;43m=\u001b[39;49m\u001b[38;5;28;43mself\u001b[39;49m\u001b[38;5;241;43m.\u001b[39;49m\u001b[43m_num_outputs\u001b[49m\u001b[43m,\u001b[49m\n\u001b[0;32m    502\u001b[0m \u001b[43m        \u001b[49m\u001b[43minputs\u001b[49m\u001b[38;5;241;43m=\u001b[39;49m\u001b[43margs\u001b[49m\u001b[43m,\u001b[49m\n\u001b[0;32m    503\u001b[0m \u001b[43m        \u001b[49m\u001b[43mattrs\u001b[49m\u001b[38;5;241;43m=\u001b[39;49m\u001b[43mattrs\u001b[49m\u001b[43m,\u001b[49m\n\u001b[0;32m    504\u001b[0m \u001b[43m        \u001b[49m\u001b[43mctx\u001b[49m\u001b[38;5;241;43m=\u001b[39;49m\u001b[43mctx\u001b[49m\u001b[43m)\u001b[49m\n\u001b[0;32m    505\u001b[0m   \u001b[38;5;28;01melse\u001b[39;00m:\n\u001b[0;32m    506\u001b[0m     outputs \u001b[38;5;241m=\u001b[39m execute\u001b[38;5;241m.\u001b[39mexecute_with_cancellation(\n\u001b[0;32m    507\u001b[0m         \u001b[38;5;28mstr\u001b[39m(\u001b[38;5;28mself\u001b[39m\u001b[38;5;241m.\u001b[39msignature\u001b[38;5;241m.\u001b[39mname),\n\u001b[0;32m    508\u001b[0m         num_outputs\u001b[38;5;241m=\u001b[39m\u001b[38;5;28mself\u001b[39m\u001b[38;5;241m.\u001b[39m_num_outputs,\n\u001b[1;32m   (...)\u001b[0m\n\u001b[0;32m    511\u001b[0m         ctx\u001b[38;5;241m=\u001b[39mctx,\n\u001b[0;32m    512\u001b[0m         cancellation_manager\u001b[38;5;241m=\u001b[39mcancellation_manager)\n",
      "File \u001b[1;32m~\\.conda\\envs\\alphaAxon\\lib\\site-packages\\tensorflow\\python\\eager\\execute.py:54\u001b[0m, in \u001b[0;36mquick_execute\u001b[1;34m(op_name, num_outputs, inputs, attrs, ctx, name)\u001b[0m\n\u001b[0;32m     52\u001b[0m \u001b[38;5;28;01mtry\u001b[39;00m:\n\u001b[0;32m     53\u001b[0m   ctx\u001b[38;5;241m.\u001b[39mensure_initialized()\n\u001b[1;32m---> 54\u001b[0m   tensors \u001b[38;5;241m=\u001b[39m \u001b[43mpywrap_tfe\u001b[49m\u001b[38;5;241;43m.\u001b[39;49m\u001b[43mTFE_Py_Execute\u001b[49m\u001b[43m(\u001b[49m\u001b[43mctx\u001b[49m\u001b[38;5;241;43m.\u001b[39;49m\u001b[43m_handle\u001b[49m\u001b[43m,\u001b[49m\u001b[43m \u001b[49m\u001b[43mdevice_name\u001b[49m\u001b[43m,\u001b[49m\u001b[43m \u001b[49m\u001b[43mop_name\u001b[49m\u001b[43m,\u001b[49m\n\u001b[0;32m     55\u001b[0m \u001b[43m                                      \u001b[49m\u001b[43minputs\u001b[49m\u001b[43m,\u001b[49m\u001b[43m \u001b[49m\u001b[43mattrs\u001b[49m\u001b[43m,\u001b[49m\u001b[43m \u001b[49m\u001b[43mnum_outputs\u001b[49m\u001b[43m)\u001b[49m\n\u001b[0;32m     56\u001b[0m \u001b[38;5;28;01mexcept\u001b[39;00m core\u001b[38;5;241m.\u001b[39m_NotOkStatusException \u001b[38;5;28;01mas\u001b[39;00m e:\n\u001b[0;32m     57\u001b[0m   \u001b[38;5;28;01mif\u001b[39;00m name \u001b[38;5;129;01mis\u001b[39;00m \u001b[38;5;129;01mnot\u001b[39;00m \u001b[38;5;28;01mNone\u001b[39;00m:\n",
      "\u001b[1;31mKeyboardInterrupt\u001b[0m: "
     ]
    }
   ],
   "source": [
    "model.fit(train, validation_data=test, epochs=100, callbacks=[checkpoint_callback, schedule_callback, example_callback]) "
   ]
  },
  {
   "cell_type": "markdown",
   "id": "88fdde86",
   "metadata": {
    "tags": []
   },
   "source": [
    "# 5. Make a Prediction "
   ]
  },
  {
   "cell_type": "code",
   "execution_count": null,
   "id": "bc40377a",
   "metadata": {},
   "outputs": [],
   "source": [
    "import gdown "
   ]
  },
  {
   "cell_type": "code",
   "execution_count": null,
   "id": "01fa7204-ce0e-49a8-8dbd-14fe5dfead40",
   "metadata": {
    "tags": []
   },
   "outputs": [],
   "source": [
    "url = 'https://drive.google.com/uc?id=1vWscXs4Vt0a_1IH1-ct2TCgXAZT-N3_Y'\n",
    "output = 'checkpoints.zip'\n",
    "gdown.download(url, output, quiet=False)\n",
    "gdown.extractall('checkpoints.zip', 'models')"
   ]
  },
  {
   "cell_type": "code",
   "execution_count": 110,
   "id": "247f664d-3c87-4e96-946e-930dad0e1c2c",
   "metadata": {
    "tags": []
   },
   "outputs": [
    {
     "data": {
      "text/plain": [
       "<tensorflow.python.checkpoint.checkpoint.CheckpointLoadStatus at 0x123149a95e0>"
      ]
     },
     "execution_count": 110,
     "metadata": {},
     "output_type": "execute_result"
    }
   ],
   "source": [
    "model.load_weights('improve_model/checkpoint')"
   ]
  },
  {
   "cell_type": "code",
   "execution_count": 111,
   "id": "7f8d689f-b7bb-443c-9b88-e40c1d800828",
   "metadata": {
    "tags": []
   },
   "outputs": [],
   "source": [
    "#test_data = test.as_numpy_iterator()"
   ]
  },
  {
   "cell_type": "code",
   "execution_count": 112,
   "id": "d08e858f",
   "metadata": {
    "tags": []
   },
   "outputs": [],
   "source": [
    "#sample = test_data.next()"
   ]
  },
  {
   "cell_type": "code",
   "execution_count": 62,
   "id": "21eacc7a",
   "metadata": {},
   "outputs": [],
   "source": [
    "sample = data.as_numpy_iterator().next() "
   ]
  },
  {
   "cell_type": "code",
   "execution_count": 68,
   "id": "86530f67",
   "metadata": {},
   "outputs": [
    {
     "data": {
      "text/plain": [
       "(2, 40)"
      ]
     },
     "execution_count": 68,
     "metadata": {},
     "output_type": "execute_result"
    }
   ],
   "source": [
    "np.array(sample[1]).shape "
   ]
  },
  {
   "cell_type": "code",
   "execution_count": 73,
   "id": "a43621f0-229d-4c0d-9554-9c3a3da9c61a",
   "metadata": {
    "tags": []
   },
   "outputs": [
    {
     "name": "stdout",
     "output_type": "stream",
     "text": [
      "1/1 [==============================] - 0s 470ms/step\n"
     ]
    }
   ],
   "source": [
    "yhat = model.predict(tf.expand_dims(sample[0][0],axis = 0)) "
   ]
  },
  {
   "cell_type": "code",
   "execution_count": 74,
   "id": "1dd6d932",
   "metadata": {},
   "outputs": [
    {
     "data": {
      "text/plain": [
       "(1, 75, 41)"
      ]
     },
     "execution_count": 74,
     "metadata": {},
     "output_type": "execute_result"
    }
   ],
   "source": [
    "yhat.shape"
   ]
  },
  {
   "cell_type": "code",
   "execution_count": 115,
   "id": "ea462999-f87e-4a7e-a057-5be7b6d8f7d5",
   "metadata": {
    "tags": []
   },
   "outputs": [
    {
     "name": "stdout",
     "output_type": "stream",
     "text": [
      "~~~~~~~~~~~~~~~~~~~~~~~~~~~~~~~~~~~~~~~~~~~~~~~~~~~~~~~~~~~~~~~~~~~~~~~~~~~~~~~~~~~~~~~~~~~~~~~~~~~~ REAL TEXT\n"
     ]
    },
    {
     "data": {
      "text/plain": [
       "[<tf.Tensor: shape=(), dtype=string, numpy=b'set red with v three again'>,\n",
       " <tf.Tensor: shape=(), dtype=string, numpy=b'lay red by e five soon'>]"
      ]
     },
     "execution_count": 115,
     "metadata": {},
     "output_type": "execute_result"
    }
   ],
   "source": [
    "print('~'*100, 'REAL TEXT')\n",
    "[tf.strings.reduce_join([num_to_char(word) for word in sentence]) for sentence in sample[1]]"
   ]
  },
  {
   "cell_type": "code",
   "execution_count": 116,
   "id": "82bd4c10-dd6e-411e-834b-2a3b43fd12c5",
   "metadata": {
    "tags": []
   },
   "outputs": [],
   "source": [
    "decoded = tf.keras.backend.ctc_decode(yhat, input_length=[75,75], greedy=True)[0][0].numpy()"
   ]
  },
  {
   "cell_type": "code",
   "execution_count": 117,
   "id": "5d68ac46-c90b-4eab-a709-f19aee569ff5",
   "metadata": {
    "tags": []
   },
   "outputs": [
    {
     "name": "stdout",
     "output_type": "stream",
     "text": [
      "~~~~~~~~~~~~~~~~~~~~~~~~~~~~~~~~~~~~~~~~~~~~~~~~~~~~~~~~~~~~~~~~~~~~~~~~~~~~~~~~~~~~~~~~~~~~~~~~~~~~ PREDICTIONS\n"
     ]
    },
    {
     "data": {
      "text/plain": [
       "[<tf.Tensor: shape=(), dtype=string, numpy=b'set redn with v sivee again'>,\n",
       " <tf.Tensor: shape=(), dtype=string, numpy=b'lay whie bt five soon'>]"
      ]
     },
     "execution_count": 117,
     "metadata": {},
     "output_type": "execute_result"
    }
   ],
   "source": [
    "print('~'*100, 'PREDICTIONS')\n",
    "[tf.strings.reduce_join([num_to_char(word) for word in sentence]) for sentence in decoded]"
   ]
  },
  {
   "cell_type": "markdown",
   "id": "64622f98-e99b-4fed-a2cc-f0da82eb5431",
   "metadata": {},
   "source": [
    "# Test on a Video"
   ]
  },
  {
   "cell_type": "code",
   "execution_count": 75,
   "id": "a8b0c4d0-2031-4331-b91d-d87b1ae6f6e2",
   "metadata": {},
   "outputs": [],
   "source": [
    "sample = load_data(tf.convert_to_tensor('.\\\\data\\\\s1\\\\bras9a.mpg'))"
   ]
  },
  {
   "cell_type": "code",
   "execution_count": 76,
   "id": "0cca60e4-47a9-4683-8a75-48f4684f723d",
   "metadata": {},
   "outputs": [
    {
     "name": "stdout",
     "output_type": "stream",
     "text": [
      "~~~~~~~~~~~~~~~~~~~~~~~~~~~~~~~~~~~~~~~~~~~~~~~~~~~~~~~~~~~~~~~~~~~~~~~~~~~~~~~~~~~~~~~~~~~~~~~~~~~~ REAL TEXT\n"
     ]
    },
    {
     "data": {
      "text/plain": [
       "[<tf.Tensor: shape=(), dtype=string, numpy=b'bin red at s nine again'>]"
      ]
     },
     "execution_count": 76,
     "metadata": {},
     "output_type": "execute_result"
    }
   ],
   "source": [
    "print('~'*100, 'REAL TEXT')\n",
    "[tf.strings.reduce_join([num_to_char(word) for word in sentence]) for sentence in [sample[1]]]"
   ]
  },
  {
   "cell_type": "code",
   "execution_count": 77,
   "id": "8cc5037c-1e32-435c-b0cc-01e1fb3b863c",
   "metadata": {},
   "outputs": [
    {
     "name": "stdout",
     "output_type": "stream",
     "text": [
      "1/1 [==============================] - 0s 354ms/step\n"
     ]
    }
   ],
   "source": [
    "yhat = model.predict(tf.expand_dims(sample[0], axis=0))"
   ]
  },
  {
   "cell_type": "code",
   "execution_count": 79,
   "id": "d7add2bf",
   "metadata": {},
   "outputs": [
    {
     "data": {
      "text/plain": [
       "(1, 75, 41)"
      ]
     },
     "execution_count": 79,
     "metadata": {},
     "output_type": "execute_result"
    }
   ],
   "source": [
    "yhat.shape "
   ]
  },
  {
   "cell_type": "code",
   "execution_count": 121,
   "id": "22c4f77d-715d-409f-bc5e-3ebe48704e8f",
   "metadata": {},
   "outputs": [],
   "source": [
    "decoded = tf.keras.backend.ctc_decode(yhat, input_length=[75], greedy=True)[0][0].numpy()"
   ]
  },
  {
   "cell_type": "code",
   "execution_count": 122,
   "id": "e4d12ecc-b634-499e-a4bc-db9f010835fb",
   "metadata": {},
   "outputs": [
    {
     "name": "stdout",
     "output_type": "stream",
     "text": [
      "~~~~~~~~~~~~~~~~~~~~~~~~~~~~~~~~~~~~~~~~~~~~~~~~~~~~~~~~~~~~~~~~~~~~~~~~~~~~~~~~~~~~~~~~~~~~~~~~~~~~ PREDICTIONS\n"
     ]
    },
    {
     "data": {
      "text/plain": [
       "[<tf.Tensor: shape=(), dtype=string, numpy=b'bia gree bt sive again'>]"
      ]
     },
     "execution_count": 122,
     "metadata": {},
     "output_type": "execute_result"
    }
   ],
   "source": [
    "print('~'*100, 'PREDICTIONS')\n",
    "[tf.strings.reduce_join([num_to_char(word) for word in sentence]) for sentence in decoded]"
   ]
  },
  {
   "cell_type": "code",
   "execution_count": null,
   "id": "551dfea2-de6b-4400-b71a-a17631529e3f",
   "metadata": {},
   "outputs": [],
   "source": []
  },
  {
   "cell_type": "code",
   "execution_count": null,
   "id": "fa95863d-3832-47bf-8a77-ebaa38054ace",
   "metadata": {},
   "outputs": [],
   "source": []
  }
 ],
 "metadata": {
  "kernelspec": {
   "display_name": "alphaAxon",
   "language": "python",
   "name": "alphaaxon"
  },
  "language_info": {
   "codemirror_mode": {
    "name": "ipython",
    "version": 3
   },
   "file_extension": ".py",
   "mimetype": "text/x-python",
   "name": "python",
   "nbconvert_exporter": "python",
   "pygments_lexer": "ipython3",
   "version": "3.9.17"
  }
 },
 "nbformat": 4,
 "nbformat_minor": 5
}
